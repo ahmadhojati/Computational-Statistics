{
 "cells": [
  {
   "cell_type": "markdown",
   "metadata": {},
   "source": [
    "# Fisher Scoring, Quasi Newton, Steepest Ascent, Newton Raphson\n",
    "\n"
   ]
  },
  {
   "cell_type": "markdown",
   "metadata": {},
   "source": [
    "### Loading the Libraries"
   ]
  },
  {
   "cell_type": "code",
   "execution_count": 1,
   "metadata": {},
   "outputs": [],
   "source": [
    "import pandas as pd\n",
    "import seaborn as sb\n",
    "import matplotlib.pyplot as plt\n",
    "import numpy as np\n",
    "import sympy as sym\n",
    "from sympy import *\n",
    "from numpy.linalg import inv\n",
    "from tabulate import tabulate\n",
    "from matplotlib import ticker, cm\n",
    "from scipy.stats import *\n",
    "from numpy import array, diag, dot, maximum, empty, repeat, ones, sum\n",
    "from scipy.misc import factorial"
   ]
  },
  {
   "cell_type": "markdown",
   "metadata": {},
   "source": [
    "### Reading the Data"
   ]
  },
  {
   "cell_type": "code",
   "execution_count": 2,
   "metadata": {},
   "outputs": [],
   "source": [
    "data = pd.read_table(\"oilspills.dat\", sep=\"\\s+\")"
   ]
  },
  {
   "cell_type": "markdown",
   "metadata": {},
   "source": [
    "### Newton's Method"
   ]
  },
  {
   "cell_type": "markdown",
   "metadata": {},
   "source": [
    "#### - Newton-Raphson Function"
   ]
  },
  {
   "cell_type": "code",
   "execution_count": 3,
   "metadata": {},
   "outputs": [],
   "source": [
    "def Newton(f1,f2,Hessian,a01,a02,eps):\n",
    "    i = 0\n",
    "    nitr = 1\n",
    "    alpha1 = np.zeros(6)\n",
    "    alpha2 = np.zeros(6)\n",
    "    alpha1[0] = a01\n",
    "    alpha2[0] = a02\n",
    "    while abs(f1(alpha1[i],alpha2[i]))+abs(f2(alpha1[i],alpha2[i]))>eps:\n",
    "        nitr +=1 \n",
    "        if i==5:\n",
    "            alpha1[0] = alpha1[i]\n",
    "            alpha2[0] = alpha2[i]\n",
    "            i=0\n",
    "            \n",
    "        [[alpha1[i+1]],[alpha2[i+1]]] = [[alpha1[i]],[alpha2[i]]]-inv(Hessian(alpha1[i],alpha2[i])).dot([[f1(alpha1[i],alpha2[i])],[f2(alpha1[i],alpha2[i])]])\n",
    "        i+=1\n",
    "\n",
    "    ID = np.concatenate((np.arange(nitr%5,5), np.arange(0,nitr%5)), axis=None)\n",
    "\n",
    "    print(tabulate({\"Iteration\": list(np.arange(nitr-4,nitr+1)),'\\u03B11' : list(alpha1[ID]), '\\u03B12': list(alpha2[ID]),\n",
    "                   'Hessian Matrix':np.array(Hessian(alpha1[ID],alpha2[ID])).T},headers=\"keys\"))\n",
    "\n",
    "    return alpha1[i],alpha2[i]"
   ]
  },
  {
   "cell_type": "markdown",
   "metadata": {},
   "source": [
    "#### - Parameteric Loglikelihood for Poisson"
   ]
  },
  {
   "cell_type": "code",
   "execution_count": 4,
   "metadata": {},
   "outputs": [],
   "source": [
    "def lglklihd_N(x0,b1,b2):\n",
    "    l = 1\n",
    "    alpha1 = sym.Symbol('a1')\n",
    "    alpha2 = sym.Symbol('a2')\n",
    "    for i in range(0,len(x0)):\n",
    "        l *= (alpha1*b1[i]+alpha2*b2[i])**x0[i]*exp(-(alpha1*b1[i]+alpha2*b2[i]))/np.math.factorial(x0[i])\n",
    "    return log(l)"
   ]
  },
  {
   "cell_type": "markdown",
   "metadata": {},
   "source": [
    "#### - First derivatives and Hessian Matrix as a function of '$\\alpha1$' and '$\\alpha2$'"
   ]
  },
  {
   "cell_type": "code",
   "execution_count": 5,
   "metadata": {},
   "outputs": [],
   "source": [
    "alpha1 = sym.Symbol('a1')\n",
    "alpha2 = sym.Symbol('a2')\n",
    "\n",
    "fprime_alpha1 = sum(data['spills']*data['importexport']/(alpha1*data['importexport']+alpha2*data['domestic']))-sum(data['importexport'])\n",
    "fprime_alpha2 = sum(data['spills']*data['domestic']/(alpha1*data['importexport']+alpha2*data['domestic']))-sum(data['domestic'])\n",
    "fzegond_alpha12 = sum(-data['spills']*data['importexport']*data['domestic']/(alpha1*data['importexport']+alpha2*data['domestic'])**2)\n",
    "fzegond_alpha11 = sum(-data['spills']*data['importexport']**2/(alpha1*data['importexport']+alpha2*data['domestic'])**2)\n",
    "fzegond_alpha22 = sum(-data['spills']*data['domestic']**2/(alpha1*data['importexport']+alpha2*data['domestic'])**2)\n",
    "\n",
    "f1 = lambdify([alpha1,alpha2], fprime_alpha1, 'numpy')\n",
    "f2 = lambdify([alpha1,alpha2], fprime_alpha2, 'numpy')\n",
    "f12 = lambdify([alpha1,alpha2], fzegond_alpha12, 'numpy')\n",
    "f11 = lambdify([alpha1,alpha2], fzegond_alpha11, 'numpy')\n",
    "f22 = lambdify([alpha1,alpha2], fzegond_alpha22, 'numpy')\n",
    "fL = lglklihd_N(data['spills'],data['importexport'],data['domestic'])\n",
    "f = lambdify([alpha1,alpha2], fL, 'numpy')\n",
    "\n",
    "H = [[f11(alpha1,alpha2),f12(alpha1,alpha2)],[f12(alpha1,alpha2),f22(alpha1,alpha2)]]\n",
    "Hessian = lambdify([alpha1,alpha2], H, 'numpy')"
   ]
  },
  {
   "cell_type": "markdown",
   "metadata": {},
   "source": [
    "#### - Newton method results"
   ]
  },
  {
   "cell_type": "code",
   "execution_count": 6,
   "metadata": {
    "scrolled": false
   },
   "outputs": [
    {
     "name": "stdout",
     "output_type": "stream",
     "text": [
      "  Iteration       α1         α2  Hessian Matrix\n",
      "-----------  -------  ---------  -----------------------------\n",
      "          3  1.46632  -0.151379  [[-25.60561759 -21.69858305]\n",
      "                                  [-21.69858305 -25.24918444]]\n",
      "          4  1.26448   0.430203  [[-18.89001991 -12.39814664]\n",
      "                                  [-12.39814664 -12.47097462]]\n",
      "          5  1.12388   0.838783  [[-17.08210149  -9.64022263]\n",
      "                                  [ -9.64022263  -8.88094872]]\n",
      "          6  1.09816   0.93353   [[-16.67804626  -9.12079917]\n",
      "                                  [ -9.12079917  -8.24586964]]\n",
      "          7  1.09715   0.937548  [[-16.66035932  -9.09932411]\n",
      "                                  [ -9.09932411  -8.22003943]]\n"
     ]
    },
    {
     "data": {
      "text/plain": [
       "(1.097154238380797, 0.9375476997530862)"
      ]
     },
     "execution_count": 6,
     "metadata": {},
     "output_type": "execute_result"
    }
   ],
   "source": [
    "Newton(f1,f2,Hessian,1,2.5,0.001)"
   ]
  },
  {
   "cell_type": "markdown",
   "metadata": {},
   "source": [
    "### Fisher Scoring"
   ]
  },
  {
   "cell_type": "markdown",
   "metadata": {},
   "source": [
    "#### - Fisher Matrix as a function of '$\\alpha1$' and '$\\alpha2$' for Fisher scoring Method"
   ]
  },
  {
   "cell_type": "code",
   "execution_count": 7,
   "metadata": {},
   "outputs": [],
   "source": [
    "alpha1 = sym.Symbol('a1')\n",
    "alpha2 = sym.Symbol('a2')\n",
    "\n",
    "fisher11 = sum(data['importexport']**2/(alpha1*data['importexport']+alpha2*data['domestic']))\n",
    "fisher12 = sum(data['importexport']*data['domestic']/(alpha1*data['importexport']+alpha2*data['domestic']))\n",
    "fisher22 = sum(data['domestic']**2/(alpha1*data['importexport']+alpha2*data['domestic']))\n",
    "\n",
    "fisher_f11 = lambdify([alpha1,alpha2], fisher11, 'numpy')\n",
    "fisher_f12 = lambdify([alpha1,alpha2], fisher12, 'numpy')\n",
    "fisher_f22 = lambdify([alpha1,alpha2], fisher22, 'numpy')\n",
    "F = [[fisher_f11(alpha1,alpha2),fisher_f12(alpha1,alpha2)],[fisher_f12(alpha1,alpha2),fisher_f22(alpha1,alpha2)]]\n",
    "Fisher = lambdify([alpha1,alpha2], F, 'numpy')"
   ]
  },
  {
   "cell_type": "markdown",
   "metadata": {},
   "source": [
    "#### - Fisher Scoring function "
   ]
  },
  {
   "cell_type": "code",
   "execution_count": 8,
   "metadata": {},
   "outputs": [],
   "source": [
    "def Fisher_N(f1,f2,Fisher,a01,a02,eps):\n",
    "    i = 0\n",
    "    nitr = 1\n",
    "    alpha1 = np.zeros(6)\n",
    "    alpha2 = np.zeros(6)\n",
    "    alpha1[0] = a01\n",
    "    alpha2[0] = a02\n",
    "    std_err_alpha1 = np.zeros(6)+100\n",
    "    std_err_alpha2 = np.zeros(6)+100\n",
    "    while abs(f1(alpha1[i],alpha2[i]))+abs(f2(alpha1[i],alpha2[i]))>eps:\n",
    "        nitr +=1\n",
    "#         print(alpha2[i])\n",
    "        if i==5:\n",
    "            alpha1[0] = alpha1[i]\n",
    "            alpha2[0] = alpha2[i]\n",
    "            std_err_alpha1[0] = std_err_alpha1[i]\n",
    "            std_err_alpha2[0] = std_err_alpha2[i]\n",
    "            i=0\n",
    "            \n",
    "        [[alpha1[i+1]],[alpha2[i+1]]] = [[alpha1[i]],[alpha2[i]]]+inv(Fisher(alpha1[i],alpha2[i])).dot([[f1(alpha1[i],alpha2[i])],[f2(alpha1[i],alpha2[i])]])\n",
    "        \n",
    "        std_err_alpha1[i+1]=inv(Fisher(alpha1[i],alpha2[i]))[0][0]\n",
    "        std_err_alpha2[i+1]=inv(Fisher(alpha1[i],alpha2[i]))[1][1]\n",
    "        i+=1\n",
    "\n",
    "    ID = np.concatenate((np.arange(nitr%5,5), np.arange(0,nitr%5)), axis=None)\n",
    "\n",
    "    print(tabulate({\"Iteration\": list(np.arange(nitr-4,nitr+1)),'\\u03B11' : list(alpha1[ID]), '\\u03B12': list(alpha2[ID]),\n",
    "                   'Fisher Matrix':np.array(Fisher(alpha1[ID],alpha2[ID])).T,'Standard Error \\u03B11':list(std_err_alpha1[ID]),\n",
    "                   'Standard Error \\u03B12':list(std_err_alpha2[ID])},headers=\"keys\"))\n",
    "\n",
    "    return alpha1[i],alpha2[i]"
   ]
  },
  {
   "cell_type": "markdown",
   "metadata": {},
   "source": [
    "#### - Fisher scoring method results"
   ]
  },
  {
   "cell_type": "code",
   "execution_count": 9,
   "metadata": {},
   "outputs": [
    {
     "name": "stdout",
     "output_type": "stream",
     "text": [
      "  Iteration       α1        α2  Fisher Matrix                  Standard Error α1    Standard Error α2\n",
      "-----------  -------  --------  ---------------------------  -------------------  -------------------\n",
      "          4  1.10521  0.925342  [[16.39177757  9.39504691]              0.19028              0.400375\n",
      "                                 [ 9.39504691  7.895992  ]]\n",
      "          5  1.09462  0.941395  [[16.41849852  9.38820348]              0.191825             0.398222\n",
      "                                 [ 9.38820348  7.87501341]]\n",
      "          6  1.09795  0.936341  [[16.41003133  9.39033089]              0.191338             0.398918\n",
      "                                 [ 9.39033089  7.88158977]]\n",
      "          7  1.0969   0.937938  [[16.41270092  9.38965609]              0.191492             0.3987\n",
      "                                 [ 9.38965609  7.87950931]]\n",
      "          8  1.09723  0.937434  [[16.41185791  9.38986878]              0.191444             0.398769\n",
      "                                 [ 9.38986878  7.88016559]]\n"
     ]
    },
    {
     "data": {
      "text/plain": [
       "(1.0972323167554459, 0.9374336680489825)"
      ]
     },
     "execution_count": 9,
     "metadata": {},
     "output_type": "execute_result"
    }
   ],
   "source": [
    "Fisher_N(f1,f2,Fisher,1,1.5,0.001)"
   ]
  },
  {
   "cell_type": "markdown",
   "metadata": {},
   "source": [
    "**Newton method reaches the global maximum faster than fisher scoring.**"
   ]
  },
  {
   "cell_type": "markdown",
   "metadata": {},
   "source": [
    "### Steepest Ascent Without Backtracking"
   ]
  },
  {
   "cell_type": "markdown",
   "metadata": {},
   "source": [
    "#### - Steepest Ascent function (without backtracking)"
   ]
  },
  {
   "cell_type": "code",
   "execution_count": 10,
   "metadata": {},
   "outputs": [],
   "source": [
    "def steepest_ascent(f1,f2,a01,a02,eps,step_size):\n",
    "    i = 0\n",
    "    nitr = 1\n",
    "    alpha1 = np.zeros(6)\n",
    "    alpha2 = np.zeros(6)\n",
    "    alpha1[0] = a01\n",
    "    alpha2[0] = a02\n",
    "    step = np.zeros(6)\n",
    "    step[0] = step_size\n",
    "    M=-np.eye(2)\n",
    "    while abs(f1(alpha1[i],alpha2[i]))+abs(f2(alpha1[i],alpha2[i]))>eps:\n",
    "        nitr +=1 \n",
    "        if i==5:\n",
    "            alpha1[0] = alpha1[i]\n",
    "            alpha2[0] = alpha2[i]\n",
    "            step[0] = step[i]\n",
    "            i=0\n",
    "            \n",
    "        [[alpha1[i+1]],[alpha2[i+1]]]  = [[alpha1[i]],[alpha2[i]]]  + step[i]*inv(M).dot([[f1(alpha1[i],alpha2[i])],[f2(alpha1[i],alpha2[i])]])\n",
    "        step[i+1]=step[i]/2\n",
    "        i+=1\n",
    "        \n",
    "        if nitr > 100:\n",
    "            print('Steepest ascent does not converge after 100 iterations')\n",
    "            break\n",
    "\n",
    "    ID = np.concatenate((np.arange(nitr%5,5), np.arange(0,nitr%5)), axis=None)\n",
    "\n",
    "    print(tabulate({\"Iteration\": list(np.arange(nitr-4,nitr+1)),'\\u03B11' : list(alpha1[ID]), '\\u03B12': list(alpha2[ID]),\n",
    "                   'Step size':list(step[ID])},headers=\"keys\"))\n",
    "\n",
    "    return alpha1[i],alpha2[i]\n"
   ]
  },
  {
   "cell_type": "markdown",
   "metadata": {},
   "source": [
    "#### - Steepest Ascent result without backtracking"
   ]
  },
  {
   "cell_type": "code",
   "execution_count": 11,
   "metadata": {
    "scrolled": false
   },
   "outputs": [
    {
     "name": "stdout",
     "output_type": "stream",
     "text": [
      "Steepest ascent does not converge after 100 iterations\n",
      "  Iteration       α1       α2    Step size\n",
      "-----------  -------  -------  -----------\n",
      "         97  33.4834  25.6634  1.26218e-29\n",
      "         98  33.4834  25.6634  6.31089e-30\n",
      "         99  33.4834  25.6634  3.15544e-30\n",
      "        100  33.4834  25.6634  1.57772e-30\n",
      "        101  33.4834  25.6634  2.52435e-29\n"
     ]
    },
    {
     "data": {
      "text/plain": [
       "(33.483418355462234, 25.663408447606606)"
      ]
     },
     "execution_count": 11,
     "metadata": {},
     "output_type": "execute_result"
    }
   ],
   "source": [
    "steepest_ascent(f1,f2,1,2.5,0.001,1)"
   ]
  },
  {
   "cell_type": "markdown",
   "metadata": {},
   "source": [
    "### Steepest Ascent With Backtracking"
   ]
  },
  {
   "cell_type": "markdown",
   "metadata": {},
   "source": [
    "#### - Steepest Ascent function (with backtracking)"
   ]
  },
  {
   "cell_type": "code",
   "execution_count": 12,
   "metadata": {},
   "outputs": [],
   "source": [
    "def steepest_ascent_backtrack(f,f1,f2,a01,a02,eps,step):\n",
    "    i = 0\n",
    "    nitr = 1\n",
    "    alpha1 = np.zeros(6)\n",
    "    alpha2 = np.zeros(6)\n",
    "    alpha1[0] = a01\n",
    "    alpha2[0] = a02\n",
    "    step_size = np.zeros(6)\n",
    "    M=-np.eye(2)\n",
    "    while abs(f1(alpha1[i],alpha2[i]))+abs(f2(alpha1[i],alpha2[i]))>eps:\n",
    "        nitr +=1\n",
    "        step_size[i] = step\n",
    "#         print(alpha1[i])\n",
    "#         print(alpha2[i])\n",
    "        if i==5:\n",
    "            alpha1[0] = alpha1[i]\n",
    "            alpha2[0] = alpha2[i]\n",
    "            step_size [0] = step\n",
    "            i=0\n",
    "            \n",
    "        [[alpha1[i+1]],[alpha2[i+1]]]  = [[alpha1[i]],[alpha2[i]]]  - step*inv(M).dot([[f1(alpha1[i],alpha2[i])],[f2(alpha1[i],alpha2[i])]])\n",
    "        while f(alpha1[i+1],alpha2[i+1])<f(alpha1[i],alpha2[i]):\n",
    "            step=step/2\n",
    "            [[alpha1[i+1]],[alpha2[i+1]]]  = [[alpha1[i]],[alpha2[i]]]  - step*inv(M).dot([[f1(alpha1[i],alpha2[i])],[f2(alpha1[i],alpha2[i])]])\n",
    "\n",
    "        \n",
    "        i+=1\n",
    "        \n",
    "        if nitr > 100:\n",
    "            print('Steepest ascent backtracking does not converge after 100 iterations')\n",
    "            break\n",
    "\n",
    "    ID = np.concatenate((np.arange(nitr%5,5), np.arange(0,nitr%5)), axis=None)\n",
    "\n",
    "    print(tabulate({\"Iteration\": list(np.arange(nitr-4,nitr+1)),'\\u03B11' : list(alpha1[ID]), '\\u03B12': list(alpha2[ID]),'Step size':list(step_size[ID])},headers=\"keys\"))\n",
    "\n",
    "    return alpha1[i],alpha2[i]"
   ]
  },
  {
   "cell_type": "markdown",
   "metadata": {},
   "source": [
    "#### - Steepest Ascent result with backtracking"
   ]
  },
  {
   "cell_type": "code",
   "execution_count": 13,
   "metadata": {},
   "outputs": [
    {
     "name": "stdout",
     "output_type": "stream",
     "text": [
      "  Iteration       α1        α2    Step size\n",
      "-----------  -------  --------  -----------\n",
      "         43  1.09744  0.937108       0.0625\n",
      "         44  1.0974   0.937175       0.0625\n",
      "         45  1.09736  0.937232       0.0625\n",
      "         46  1.09733  0.937281       0.0625\n",
      "         47  1.0973   0.937322       0.0625\n"
     ]
    },
    {
     "data": {
      "text/plain": [
       "(1.0973011169729079, 0.9373218987813381)"
      ]
     },
     "execution_count": 13,
     "metadata": {},
     "output_type": "execute_result"
    }
   ],
   "source": [
    "steepest_ascent_backtrack(f,f1,f2,1.5,.5,0.001,1)"
   ]
  },
  {
   "cell_type": "markdown",
   "metadata": {},
   "source": [
    "### Quasi Newton without Backtracking"
   ]
  },
  {
   "cell_type": "markdown",
   "metadata": {},
   "source": [
    "#### - Quasi Newton function (without backtracking)"
   ]
  },
  {
   "cell_type": "code",
   "execution_count": 14,
   "metadata": {},
   "outputs": [],
   "source": [
    "def Q_Newton(f,f1,f2,a01,a02,eps,step):\n",
    "    i = 0\n",
    "    nitr = 1\n",
    "    alpha1 = np.zeros(6)\n",
    "    alpha2 = np.zeros(6)\n",
    "    alpha1[0] = a01\n",
    "    alpha2[0] = a02\n",
    "    step_size = np.zeros(6)\n",
    "    M = [-np.eye(2),-np.eye(2),-np.eye(2),-np.eye(2),-np.eye(2),-np.eye(2)]\n",
    "    while abs(f1(alpha1[i],alpha2[i]))+abs(f2(alpha1[i],alpha2[i])) > eps:\n",
    "        nitr +=1\n",
    "        step_size[i] = step\n",
    "        if i==5:\n",
    "            alpha1[0] = alpha1[i]\n",
    "            alpha2[0] = alpha2[i]\n",
    "            step_size [0] = step\n",
    "            M[0] = M[i]\n",
    "            i=0\n",
    "            \n",
    "        [[alpha1[i+1]],[alpha2[i+1]]]  = [[alpha1[i]],[alpha2[i]]]  - step*inv(M[i]).dot([[f1(alpha1[i],alpha2[i])],[f2(alpha1[i],alpha2[i])]])\n",
    "\n",
    "        step = step/2\n",
    "        Z = np.array([[alpha1[i+1]-alpha1[i]],[alpha2[i+1]-alpha2[i]]])\n",
    "        Y = np.array([[f1(alpha1[i+1],alpha2[i+1])-f1(alpha1[i],alpha2[i])],[f2(alpha1[i+1],alpha2[i+1])-f2(alpha1[i],alpha2[i])]])\n",
    "        V = Y - M[i].dot(Z)\n",
    "        M[i+1] = M[i] - (M[i].dot(Z).dot((M[i].dot(Z)).T))/(Z.T.dot(M[i]).dot(Z))+Y.dot(Y.T)/((Z.T).dot(Y))\n",
    "        if abs(V.T.dot(Z)) < eps:\n",
    "            M[i+1] = M[i]           \n",
    "\n",
    "        i+=1\n",
    "        \n",
    "        if nitr > 100:\n",
    "            print('Quasi Newton does not converge after 100 iterations')\n",
    "            break\n",
    "\n",
    "    ID = np.concatenate((np.arange(nitr%5,5), np.arange(0,nitr%5)), axis=None)\n",
    "\n",
    "    print(tabulate({\"Iteration\": list(np.arange(nitr-4,nitr+1)),'\\u03B11' : list(alpha1[ID]), '\\u03B12': list(alpha2[ID]),\n",
    "                    'Step size':list(step_size[ID]),'M Matrix': np.array(M)[ID]},headers=\"keys\"))\n",
    "\n",
    "    return alpha1[i],alpha2[i]"
   ]
  },
  {
   "cell_type": "markdown",
   "metadata": {},
   "source": [
    "#### - Quasi Newton's method results without backtracking"
   ]
  },
  {
   "cell_type": "code",
   "execution_count": 15,
   "metadata": {
    "scrolled": false
   },
   "outputs": [
    {
     "name": "stdout",
     "output_type": "stream",
     "text": [
      "Quasi Newton does not converge after 100 iterations\n",
      "  Iteration       α1       α2    Step size  M Matrix\n",
      "-----------  -------  -------  -----------  -----------------------------\n",
      "         97  1.17246  1.00493  1.26218e-29  [[-13.84712197  -8.15459027]\n",
      "                                             [ -8.15459027  -6.15459416]]\n",
      "         98  1.17246  1.00493  6.31089e-30  [[-13.84712197  -8.15459027]\n",
      "                                             [ -8.15459027  -6.15459416]]\n",
      "         99  1.17246  1.00493  3.15544e-30  [[-13.84712197  -8.15459027]\n",
      "                                             [ -8.15459027  -6.15459416]]\n",
      "        100  1.17246  1.00493  1.57772e-30  [[-13.84712197  -8.15459027]\n",
      "                                             [ -8.15459027  -6.15459416]]\n",
      "        101  1.17246  1.00493  2.52435e-29  [[-13.84712197  -8.15459027]\n",
      "                                             [ -8.15459027  -6.15459416]]\n"
     ]
    },
    {
     "name": "stderr",
     "output_type": "stream",
     "text": [
      "C:\\ProgramData\\Anaconda\\lib\\site-packages\\ipykernel_launcher.py:26: RuntimeWarning: invalid value encountered in true_divide\n"
     ]
    },
    {
     "data": {
      "text/plain": [
       "(1.1724604095105484, 1.0049296132546197)"
      ]
     },
     "execution_count": 15,
     "metadata": {},
     "output_type": "execute_result"
    }
   ],
   "source": [
    "Q_Newton(f,f1,f2,1.1,0.9,0.0001,1)"
   ]
  },
  {
   "cell_type": "markdown",
   "metadata": {},
   "source": [
    "### Quasi Newton with Backtracking"
   ]
  },
  {
   "cell_type": "markdown",
   "metadata": {},
   "source": [
    "#### - Quasi Newton function (with backtracking)"
   ]
  },
  {
   "cell_type": "code",
   "execution_count": 16,
   "metadata": {},
   "outputs": [],
   "source": [
    "def Q_Newton_backtrack(f,f1,f2,a01,a02,eps,step):\n",
    "    i = 0\n",
    "    nitr = 1\n",
    "    alpha1 = np.zeros(6)\n",
    "    alpha2 = np.zeros(6)\n",
    "    alpha1[0] = a01\n",
    "    alpha2[0] = a02\n",
    "    step_size = np.zeros(6)\n",
    "    M = [-np.eye(2),-np.eye(2),-np.eye(2),-np.eye(2),-np.eye(2),-np.eye(2)]\n",
    "    while abs(f1(alpha1[i],alpha2[i]))+abs(f2(alpha1[i],alpha2[i])) > eps:\n",
    "        nitr +=1\n",
    "        step_size[i] = step\n",
    "#         print(alpha2[i])\n",
    "        if i==5:\n",
    "            alpha1[0] = alpha1[i]\n",
    "            alpha2[0] = alpha2[i]\n",
    "            step_size [0] = step\n",
    "            M[0] = M[i]\n",
    "            i=0\n",
    "            \n",
    "        [[alpha1[i+1]],[alpha2[i+1]]]  = [[alpha1[i]],[alpha2[i]]]  - step*inv(M[i]).dot([[f1(alpha1[i],alpha2[i])],[f2(alpha1[i],alpha2[i])]])\n",
    "       \n",
    "        while f(alpha1[i+1],alpha2[i+1])<f(alpha1[i],alpha2[i]):\n",
    "            step=step/2\n",
    "            [[alpha1[i+1]],[alpha2[i+1]]]  = [[alpha1[i]],[alpha2[i]]]  - step*inv(M[i]).dot([[f1(alpha1[i],alpha2[i])],[f2(alpha1[i],alpha2[i])]])\n",
    "\n",
    "#         step = step/2\n",
    "        \n",
    "        Z = np.array([[alpha1[i+1]-alpha1[i]],[alpha2[i+1]-alpha2[i]]])\n",
    "        Y = np.array([[f1(alpha1[i+1],alpha2[i+1])-f1(alpha1[i],alpha2[i])],[f2(alpha1[i+1],alpha2[i+1])-f2(alpha1[i],alpha2[i])]])\n",
    "        V = Y - M[i].dot(Z)\n",
    "        M[i+1] = M[i] - (M[i].dot(Z).dot((M[i].dot(Z)).T))/(Z.T.dot(M[i]).dot(Z))+Y.dot(Y.T)/((Z.T).dot(Y))\n",
    "        if abs(V.T.dot(Z)) < eps:\n",
    "            M[i+1] = M[i]           \n",
    "\n",
    "        i+=1\n",
    "        \n",
    "        if nitr > 100:\n",
    "#             print('Quasi Newton backtracking does not converge after 100 iterations')\n",
    "            break\n",
    "\n",
    "    ID = np.concatenate((np.arange(nitr%5,5), np.arange(0,nitr%5)), axis=None)\n",
    "\n",
    "    print(tabulate({\"Iteration\": list(np.arange(nitr-4,nitr+1)),'\\u03B11' : list(alpha1[ID]), '\\u03B12': list(alpha2[ID]),\n",
    "                    'Step size':list(step_size[ID]),'M Matrix': np.array(M)[ID]},headers=\"keys\"))\n",
    "\n",
    "    return alpha1[i],alpha2[i]"
   ]
  },
  {
   "cell_type": "markdown",
   "metadata": {},
   "source": [
    "#### - Quasi Newton's method results with backtracking"
   ]
  },
  {
   "cell_type": "code",
   "execution_count": 17,
   "metadata": {
    "scrolled": false
   },
   "outputs": [
    {
     "name": "stdout",
     "output_type": "stream",
     "text": [
      "  Iteration       α1        α2    Step size  M Matrix\n",
      "-----------  -------  --------  -----------  -----------------------------\n",
      "         97  1.09744  0.937755       0.0625  [[-13.39085964  -7.54559361]\n",
      "                                              [ -7.54559361  -6.52994737]]\n",
      "         98  1.09742  0.93774        0.0625  [[-13.39085964  -7.54559361]\n",
      "                                              [ -7.54559361  -6.52994737]]\n",
      "         99  1.0974   0.937727       0.0625  [[-13.39085964  -7.54559361]\n",
      "                                              [ -7.54559361  -6.52994737]]\n",
      "        100  1.09738  0.937714       0.0625  [[-13.39085964  -7.54559361]\n",
      "                                              [ -7.54559361  -6.52994737]]\n",
      "        101  1.09746  0.937771       0.0625  [[-13.39085964  -7.54559361]\n",
      "                                              [ -7.54559361  -6.52994737]]\n"
     ]
    },
    {
     "data": {
      "text/plain": [
       "(1.0973595151386142, 0.9377021294201133)"
      ]
     },
     "execution_count": 17,
     "metadata": {},
     "output_type": "execute_result"
    }
   ],
   "source": [
    "Q_Newton_backtrack(f,f1,f2,1,.2,0.0001,1)"
   ]
  },
  {
   "cell_type": "markdown",
   "metadata": {},
   "source": [
    "**Quasi Newton without step halving backtracking does not converge but with backtracking it converges.**"
   ]
  },
  {
   "cell_type": "markdown",
   "metadata": {},
   "source": [
    "### Graph for all methods\n",
    "\n",
    "#### - Initial Values"
   ]
  },
  {
   "cell_type": "code",
   "execution_count": 18,
   "metadata": {},
   "outputs": [],
   "source": [
    "alpha0 = np.linspace(-.5,2.5,100)\n",
    "alpha1 = np.linspace(-.5,2.5,100)"
   ]
  },
  {
   "cell_type": "markdown",
   "metadata": {},
   "source": [
    "#### - Numerical loglikelihood function for poisson"
   ]
  },
  {
   "cell_type": "code",
   "execution_count": 19,
   "metadata": {},
   "outputs": [],
   "source": [
    "def lglklihd_N(x0,b1,b2,alpha0,alpha1):\n",
    "    X, Y = np.meshgrid(alpha0,alpha1)\n",
    "    n = len(alpha1)\n",
    "    x = np.reshape(X,n**2)\n",
    "    y = np.reshape(Y,n**2)\n",
    "    l = np.zeros(n**2)\n",
    "    for i in range(0,n**2-1):\n",
    "        l[i] = sum(x0*np.log(x[i]*b1+y[i]*b2))-sum((x[i]*b1+y[i]*b2))-sum(np.log(factorial(x0)))\n",
    "    return X, Y, np.reshape(l,(n,n))"
   ]
  },
  {
   "cell_type": "markdown",
   "metadata": {},
   "source": [
    "#### - log-likelihood computation for a grid of $\\alpha1$ and $\\alpha2$"
   ]
  },
  {
   "cell_type": "code",
   "execution_count": 20,
   "metadata": {},
   "outputs": [
    {
     "name": "stderr",
     "output_type": "stream",
     "text": [
      "C:\\ProgramData\\Anaconda\\lib\\site-packages\\pandas\\core\\series.py:853: RuntimeWarning: invalid value encountered in log\n",
      "  result = getattr(ufunc, method)(*inputs, **kwargs)\n",
      "C:\\ProgramData\\Anaconda\\lib\\site-packages\\ipykernel_launcher.py:8: DeprecationWarning: `factorial` is deprecated!\n",
      "Importing `factorial` from scipy.misc is deprecated in scipy 1.0.0. Use `scipy.special.factorial` instead.\n",
      "  \n",
      "C:\\ProgramData\\Anaconda\\lib\\site-packages\\pandas\\core\\series.py:853: RuntimeWarning: divide by zero encountered in log\n",
      "  result = getattr(ufunc, method)(*inputs, **kwargs)\n"
     ]
    }
   ],
   "source": [
    "X, Y, l =lglklihd_N(data['spills'],data['importexport'],data['domestic'],alpha0,alpha1)"
   ]
  },
  {
   "cell_type": "markdown",
   "metadata": {},
   "source": [
    "#### - Lets plot `Newton-Raphson`, `Fisher scoring`, `Steepest Ascent` and `Quasi Newton` traces"
   ]
  },
  {
   "cell_type": "code",
   "execution_count": 21,
   "metadata": {},
   "outputs": [
    {
     "name": "stderr",
     "output_type": "stream",
     "text": [
      "C:\\ProgramData\\Anaconda\\lib\\site-packages\\ipykernel_launcher.py:3: UserWarning: linewidths is ignored by contourf\n",
      "  This is separate from the ipykernel package so we can avoid doing imports until\n"
     ]
    },
    {
     "data": {
      "image/png": "[encoded data removed]",
      "text/plain": [
       "<Figure size 1440x720 with 2 Axes>"
      ]
     },
     "metadata": {
      "needs_background": "light"
     },
     "output_type": "display_data"
    }
   ],
   "source": [
    "plt.figure(figsize = (20,10))\n",
    "plt.contour(X, Y, l, colors='black', linestyles='dashed', linewidths=2)\n",
    "cs = plt.contourf(X, Y, l, linewidths=1,cmap=cm.PuBu_r)\n",
    "plt.ylabel(r'$\\alpha2$',weight='bold',fontsize=16)\n",
    "plt.xlabel(r'$\\alpha1$',weight='bold',fontsize=16)\n",
    "# Newton's Method\n",
    "plt.plot([1.46632,1.26448,1.12388,1.09816,1.09715],[-0.151379,0.430203,0.838783,0.93353,0.937548],marker='o',ms=10,linewidth=2,color='g')\n",
    "plt.text(1.3,-0.3, 'Newton-Raphson', fontsize=20)\n",
    "         \n",
    "# Fisher Scoring\n",
    "plt.plot([1.0,1.1801888670933343,1.071924035873405,1.1052106682989804,1.094618369915091,1.097953423887773,1.096899813427851],\n",
    "         [1.5,0.8117092409964791,0.9757895194027143,0.9253421132224043,0.941395223435636,0.9363407973752859,0.9379375919728272],marker='^',ms=10,linewidth=2,color='b')\n",
    "plt.text(.7,1.54, 'Fisher Scoring', fontsize=20)\n",
    "\n",
    "# Steepest Asent\n",
    "plt.plot([1.5,1.150776613767146,1.1075336443763262,1.099177844073335,1.0973274656446057],\n",
    "         [0.5,0.8553265639516938,0.92136128844898,0.9343852011842726,0.937280639070089],marker='*',ms=10,linewidth=2,color='k')\n",
    "plt.text(1.53,.5, 'Steepest Asent', fontsize=20)\n",
    "\n",
    "# Quasi Newton\n",
    "plt.plot([1.0,1.2329710086116585,1.1254844523076506,1.1026592096491146,1.0982164777888395,1.0973771273370907],\n",
    "         [0.2,0.9826324317526023,0.9495600312109526,0.9404937171136707,0.9382268098441964,0.9377138636031992],marker='o',ms=10,linewidth=2,color='y')\n",
    "plt.text(.5,.2, 'Quasi Newton', fontsize=20)\n",
    "\n",
    "plt.text(1.,.758, 'x*', fontsize=25,color='r')\n",
    "plt.plot([1.0973595151386144],[0.9377021294201132],marker='o',ms=10,linewidth=2,color='r')\n",
    "# plt.text(0, 2, r'$\\alpha_{(2)}$', fontsize=20)\n",
    "cbar = plt.colorbar(cs)\n",
    "cbar.set_label(r'$l(\\lambda_{i})$',fontsize=25, rotation=90)"
   ]
  },
  {
   "cell_type": "markdown",
   "metadata": {},
   "source": [
    "\n",
    "####  $x^{*}$ is the true maximum likelihood (red dot in the plot)\n",
    "\n",
    "**I selected the starting point, end point and randomly couple of $\\alpha1$ and $\\alpha2$ values between for those that reach the general maxima with more than 10 iterations.**"
   ]
  },
  {
   "cell_type": "code",
   "execution_count": null,
   "metadata": {},
   "outputs": [],
   "source": []
  }
 ],
 "metadata": {
  "kernelspec": {
   "display_name": "Python 3",
   "language": "python",
   "name": "python3"
  },
  "language_info": {
   "codemirror_mode": {
    "name": "ipython",
    "version": 3
   },
   "file_extension": ".py",
   "mimetype": "text/x-python",
   "name": "python",
   "nbconvert_exporter": "python",
   "pygments_lexer": "ipython3",
   "version": "3.7.3"
  },
  "toc": {
   "base_numbering": 1,
   "nav_menu": {},
   "number_sections": true,
   "sideBar": true,
   "skip_h1_title": false,
   "title_cell": "Table of Contents",
   "title_sidebar": "Contents",
   "toc_cell": false,
   "toc_position": {},
   "toc_section_display": true,
   "toc_window_display": false
  },
  "varInspector": {
   "cols": {
    "lenName": 16,
    "lenType": 16,
    "lenVar": 40
   },
   "kernels_config": {
    "python": {
     "delete_cmd_postfix": "",
     "delete_cmd_prefix": "del ",
     "library": "var_list.py",
     "varRefreshCmd": "print(var_dic_list())"
    },
    "r": {
     "delete_cmd_postfix": ") ",
     "delete_cmd_prefix": "rm(",
     "library": "var_list.r",
     "varRefreshCmd": "cat(var_dic_list()) "
    }
   },
   "types_to_exclude": [
    "module",
    "function",
    "builtin_function_or_method",
    "instance",
    "_Feature"
   ],
   "window_display": false
  }
 },
 "nbformat": 4,
 "nbformat_minor": 2
}
