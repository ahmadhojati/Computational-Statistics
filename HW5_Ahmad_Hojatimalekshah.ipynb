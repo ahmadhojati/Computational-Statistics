{
 "cells": [
  {
   "cell_type": "markdown",
   "metadata": {},
   "source": [
    "## HW5"
   ]
  },
  {
   "cell_type": "markdown",
   "metadata": {},
   "source": [
    "### Ahmad Hojatimalekshah"
   ]
  },
  {
   "cell_type": "markdown",
   "metadata": {},
   "source": [
    "### Lets Load Libraries"
   ]
  },
  {
   "cell_type": "code",
   "execution_count": 1,
   "metadata": {},
   "outputs": [],
   "source": [
    "import pandas as pd\n",
    "import seaborn as sb\n",
    "import matplotlib.pyplot as plt\n",
    "import numpy as np\n",
    "import sympy as sym\n",
    "from sympy import *\n",
    "from numpy.linalg import inv\n",
    "from tabulate import tabulate\n",
    "import math\n",
    "from numpy import array, diag, dot, maximum, empty, repeat, ones, sum"
   ]
  },
  {
   "cell_type": "markdown",
   "metadata": {},
   "source": [
    "# 1. (a)"
   ]
  },
  {
   "cell_type": "markdown",
   "metadata": {},
   "source": [
    "### Creating a dataframe from the datasets"
   ]
  },
  {
   "cell_type": "code",
   "execution_count": 2,
   "metadata": {},
   "outputs": [
    {
     "data": {
      "text/html": [
       "<div>\n",
       "<style scoped>\n",
       "    .dataframe tbody tr th:only-of-type {\n",
       "        vertical-align: middle;\n",
       "    }\n",
       "\n",
       "    .dataframe tbody tr th {\n",
       "        vertical-align: top;\n",
       "    }\n",
       "\n",
       "    .dataframe thead th {\n",
       "        text-align: right;\n",
       "    }\n",
       "</style>\n",
       "<table border=\"1\" class=\"dataframe\">\n",
       "  <thead>\n",
       "    <tr style=\"text-align: right;\">\n",
       "      <th></th>\n",
       "      <th>Days</th>\n",
       "      <th>Beetles</th>\n",
       "    </tr>\n",
       "  </thead>\n",
       "  <tbody>\n",
       "    <tr>\n",
       "      <th>0</th>\n",
       "      <td>0</td>\n",
       "      <td>2</td>\n",
       "    </tr>\n",
       "    <tr>\n",
       "      <th>1</th>\n",
       "      <td>8</td>\n",
       "      <td>47</td>\n",
       "    </tr>\n",
       "    <tr>\n",
       "      <th>2</th>\n",
       "      <td>28</td>\n",
       "      <td>192</td>\n",
       "    </tr>\n",
       "    <tr>\n",
       "      <th>3</th>\n",
       "      <td>41</td>\n",
       "      <td>256</td>\n",
       "    </tr>\n",
       "    <tr>\n",
       "      <th>4</th>\n",
       "      <td>63</td>\n",
       "      <td>768</td>\n",
       "    </tr>\n",
       "  </tbody>\n",
       "</table>\n",
       "</div>"
      ],
      "text/plain": [
       "   Days  Beetles\n",
       "0     0        2\n",
       "1     8       47\n",
       "2    28      192\n",
       "3    41      256\n",
       "4    63      768"
      ]
     },
     "execution_count": 2,
     "metadata": {},
     "output_type": "execute_result"
    }
   ],
   "source": [
    "df = pd.DataFrame(np.array([[0,8,28,41,63,79,97,117,135,154],[2,47,192,256,768,896,1120,896,1184,1024]]).T,\n",
    "                 columns=['Days','Beetles'])\n",
    "df.head()"
   ]
  },
  {
   "cell_type": "markdown",
   "metadata": {},
   "source": [
    "### Lets produce the function and its first derivative over **`k`** and **`r`**"
   ]
  },
  {
   "cell_type": "code",
   "execution_count": 3,
   "metadata": {},
   "outputs": [],
   "source": [
    "r = sym.Symbol('r')\n",
    "k = sym.Symbol('k')\n",
    "t = sym.Symbol('t')\n",
    "# N = sym.Symbol('N')\n",
    "func = k*2/(2+(k-2)*sym.exp(-r*t))\n",
    "fprime_r = sym.diff(func,r)\n",
    "fprime_k = sym.diff(func,k)\n",
    "\n",
    "f = lambdify([r,k,t],func)\n",
    "f_r = lambdify([r,k,t],fprime_r, 'numpy')\n",
    "f_k = lambdify([r,k,t],fprime_k, 'numpy')"
   ]
  },
  {
   "cell_type": "markdown",
   "metadata": {},
   "source": [
    "#### Main Function"
   ]
  },
  {
   "cell_type": "code",
   "execution_count": 4,
   "metadata": {},
   "outputs": [
    {
     "data": {
      "text/latex": [
       "$\\displaystyle \\frac{2 k}{\\left(k - 2\\right) e^{- r t} + 2}$"
      ],
      "text/plain": [
       "2*k/((k - 2)*exp(-r*t) + 2)"
      ]
     },
     "execution_count": 4,
     "metadata": {},
     "output_type": "execute_result"
    }
   ],
   "source": [
    "func"
   ]
  },
  {
   "cell_type": "markdown",
   "metadata": {},
   "source": [
    "#### First derivative over r"
   ]
  },
  {
   "cell_type": "code",
   "execution_count": 5,
   "metadata": {},
   "outputs": [
    {
     "data": {
      "text/latex": [
       "$\\displaystyle \\frac{2 k t \\left(k - 2\\right) e^{- r t}}{\\left(\\left(k - 2\\right) e^{- r t} + 2\\right)^{2}}$"
      ],
      "text/plain": [
       "2*k*t*(k - 2)*exp(-r*t)/((k - 2)*exp(-r*t) + 2)**2"
      ]
     },
     "execution_count": 5,
     "metadata": {},
     "output_type": "execute_result"
    }
   ],
   "source": [
    "fprime_r"
   ]
  },
  {
   "cell_type": "markdown",
   "metadata": {},
   "source": [
    "#### First derivative over k"
   ]
  },
  {
   "cell_type": "code",
   "execution_count": 6,
   "metadata": {},
   "outputs": [
    {
     "data": {
      "text/latex": [
       "$\\displaystyle - \\frac{2 k e^{- r t}}{\\left(\\left(k - 2\\right) e^{- r t} + 2\\right)^{2}} + \\frac{2}{\\left(k - 2\\right) e^{- r t} + 2}$"
      ],
      "text/plain": [
       "-2*k*exp(-r*t)/((k - 2)*exp(-r*t) + 2)**2 + 2/((k - 2)*exp(-r*t) + 2)"
      ]
     },
     "execution_count": 6,
     "metadata": {},
     "output_type": "execute_result"
    }
   ],
   "source": [
    "fprime_k"
   ]
  },
  {
   "cell_type": "markdown",
   "metadata": {},
   "source": [
    "### Lets define a Function for Gauss-Newton "
   ]
  },
  {
   "cell_type": "code",
   "execution_count": 7,
   "metadata": {},
   "outputs": [],
   "source": [
    "def Newton_Gauss(r0,k0,N,t,eps):\n",
    "    i = 0\n",
    "    nitr = 1\n",
    "    r1 = np.zeros(6)\n",
    "    k1 = np.ones(6)\n",
    "    SE_k = np.zeros(6)\n",
    "    SE_r = np.zeros(6)\n",
    "    corr = np.zeros(6)\n",
    "    r1[0] = r0\n",
    "    k1[0] = k0\n",
    "    while sum(N-f(r1[i],k1[i],t))**2>eps:\n",
    "        nitr +=1 \n",
    "        if i==5:\n",
    "            r1[0] = r1[i]\n",
    "            k1[0] = k1[i]\n",
    "            SE_r[0] = SE_r[i]\n",
    "            SE_k[0] = SE_k[i]\n",
    "            corr[0] = corr[i]\n",
    "            i=0\n",
    "        A = np.array([f_r(r1[i],k1[i],t),f_k(r1[i],k1[i],t)]).T    \n",
    "        [r1[i+1],k1[i+1]] = [r1[i],k1[i]]+inv(A.T.dot(A)).dot(A.T).dot(N-f(r1[i],k1[i],t))\n",
    "        SE_r[i+1] = np.sqrt(inv(A.T.dot(A)).diagonal())[0]*np.sqrt(sum((N-f(r1[i],k1[i],t))**2)/(len(N)-2))\n",
    "        SE_k[i+1] = np.sqrt(inv(A.T.dot(A)).diagonal())[1]*np.sqrt(sum((N-f(r1[i],k1[i],t))**2)/(len(N)-2))\n",
    "        corr[i+1] =  inv(A.T.dot(A))[0][1]/(np.sqrt(inv(A.T.dot(A)).diagonal())[0]*np.sqrt(inv(A.T.dot(A)).diagonal())[1])\n",
    "        \n",
    "        i+=1\n",
    "        if nitr > 100:\n",
    "            print('r and k estimates after 100 iterations:')\n",
    "            break\n",
    "\n",
    "    ID = np.concatenate((np.arange(nitr%5,5), np.arange(0,nitr%5)), axis=None)\n",
    "\n",
    "    print(tabulate({\"Iteration\": list(np.arange(nitr-4,nitr+1)),'r' : list(r1[ID]), 'k': list(k1[ID]),\n",
    "                    'SE for r': list(SE_r[ID]),'SE for k': list(SE_k[ID]), 'Correlation': list(corr[ID])},headers=\"keys\"))\n",
    "\n",
    "    return r1[i],k1[i]"
   ]
  },
  {
   "cell_type": "markdown",
   "metadata": {},
   "source": [
    "### Lets see the last five iteration of Gauss-Newton method"
   ]
  },
  {
   "cell_type": "code",
   "execution_count": 8,
   "metadata": {},
   "outputs": [
    {
     "name": "stdout",
     "output_type": "stream",
     "text": [
      "r and k estimates after 100 iterations:\n",
      "  Iteration         r        k    SE for r    SE for k    Correlation\n",
      "-----------  --------  -------  ----------  ----------  -------------\n",
      "         97  0.117959  1033.52  0.00777512     47.8238      -0.342842\n",
      "         98  0.117959  1033.52  0.00777512     47.8238      -0.342842\n",
      "         99  0.117959  1033.52  0.00777512     47.8238      -0.342842\n",
      "        100  0.117959  1033.52  0.00777512     47.8238      -0.342842\n",
      "        101  0.117959  1033.52  0.00777512     47.8238      -0.342842\n"
     ]
    }
   ],
   "source": [
    "r_gauss,k_gauss = Newton_Gauss(0.5,200,df['Beetles'],df['Days'],0.001)"
   ]
  },
  {
   "cell_type": "markdown",
   "metadata": {},
   "source": [
    "### Scatter plot of the real data (observations) and the fitted model"
   ]
  },
  {
   "cell_type": "code",
   "execution_count": 9,
   "metadata": {},
   "outputs": [
    {
     "data": {
      "text/plain": [
       "<matplotlib.legend.Legend at 0xc231b00>"
      ]
     },
     "execution_count": 9,
     "metadata": {},
     "output_type": "execute_result"
    },
    {
     "data": {
      "image/png": "[encoded data removed]",
      "text/plain": [
       "<Figure size 1008x576 with 1 Axes>"
      ]
     },
     "metadata": {
      "needs_background": "light"
     },
     "output_type": "display_data"
    }
   ],
   "source": [
    "x = np.linspace(0,160,300)\n",
    "y_gauss = f(r_gauss,k_gauss,x)\n",
    "plt.figure(figsize=(14,8))\n",
    "plt.plot(x,y_gauss,linewidth=3)\n",
    "plt.xlabel('$Days$',weight='bold',fontsize=16)\n",
    "plt.ylabel('$Beetles$',weight='bold',fontsize=16)\n",
    "plt.scatter(df['Days'], df['Beetles'], s=200,c='red',marker='^')\n",
    "plt.legend((\"Gauss–Newton Fitted Model\", \"Actual Data\"),fontsize=16)"
   ]
  },
  {
   "cell_type": "markdown",
   "metadata": {},
   "source": [
    "## (b)"
   ]
  },
  {
   "cell_type": "markdown",
   "metadata": {},
   "source": [
    "### we are going to minimize the function below:\n",
    "\n",
    "$$\\sum_{i=1}^{n} [(N_{i}-\\frac{N_{0}k}{(k-N_{0})e^{-rt_{i}}+N_{0}})^{2}]$$"
   ]
  },
  {
   "cell_type": "markdown",
   "metadata": {},
   "source": [
    "### Lets define a Function for Newton-Raphson method "
   ]
  },
  {
   "cell_type": "code",
   "execution_count": 10,
   "metadata": {},
   "outputs": [],
   "source": [
    "def Newton(r0,k0,t,N,eps):\n",
    "    i = 0\n",
    "    nitr = 1\n",
    "    r1 = np.zeros(6)\n",
    "    k1 = np.ones(6)\n",
    "    SE_r = np.zeros(6)\n",
    "    SE_k = np.zeros(6)\n",
    "    corr = np.zeros(6)\n",
    "    Hessian = np.zeros((10,2))\n",
    "    r1[0] = r0\n",
    "    k1[0] = k0\n",
    "    while sum(N-g(r1[i],k1[i],t,N))**2>eps:\n",
    "        nitr +=1 \n",
    "        if i==5:\n",
    "            r1[0] = r1[i]\n",
    "            k1[0] = k1[i]\n",
    "            Hessian[0:2,:] = H\n",
    "            SE_r[0] = SE_r[i]\n",
    "            SE_k[0] = SE_k[i]\n",
    "            corr[0] = corr[i]\n",
    "            i=0\n",
    "        H= np.array([[sum(g_rr(r1[i],k1[i],t,N)),sum(g_rk(r1[i],k1[i],t,N))],[sum(g_rk(r1[i],k1[i],t,N)),sum(g_kk(r1[i],k1[i],t,N))]])    \n",
    "        [[r1[i+1]],[k1[i+1]]] = [[r1[i]],[k1[i]]]-inv(H).dot([[sum(g_r(r1[i],k1[i],t,N))],[sum(g_k(r1[i],k1[i],t,N))]])\n",
    "        Hessian[2*i:2*i+2,:] =H\n",
    "        SE_r[i+1] = np.sqrt(inv(H)[0][0])\n",
    "        SE_k[i+1] = np.sqrt(inv(H)[1][1])\n",
    "        corr[i+1] = (inv(H)[0][1])/(np.sqrt(inv(H)[0][0])*np.sqrt(inv(H)[1][1]))\n",
    "        i = i+1\n",
    "        if nitr > 100:\n",
    "            print('r and k estimates after 100 iterations:')\n",
    "            break        \n",
    "    ID = np.concatenate((np.arange(nitr%5,5), np.arange(0,nitr%5)), axis=None)\n",
    "\n",
    "\n",
    "    print(tabulate({\"Iteration\": list(np.arange(nitr-4,nitr+1)),'\\u03B11' : list(r1[ID]), '\\u03B12': list(k1[ID]),\n",
    "                   'Hessian Matrix':np.array(Hessian),'SE for r': list(SE_r[ID]),'SE for k': list(SE_k[ID]),\n",
    "                   'Correlation': list(corr[ID])},headers=\"keys\"))\n",
    "\n",
    "    return r1[i],k1[i]"
   ]
  },
  {
   "cell_type": "markdown",
   "metadata": {},
   "source": [
    "#### We need to define \n",
    "$$\\sum_{i=1}^{n} [(N_{i}-\\frac{N_{0}k}{(k-N_{0})e^{-rt_{i}}+N_{0}})^{2}]$$\n",
    "#### as a function and take first and second derivative over r and k of it. $N_{0}=2$ according to the table in the book."
   ]
  },
  {
   "cell_type": "code",
   "execution_count": 11,
   "metadata": {
    "scrolled": true
   },
   "outputs": [],
   "source": [
    "N = sym.Symbol('N')\n",
    "g = (N-func)**2\n",
    "\n",
    "\n",
    "gdprime_r = sym.diff(g,r,2)\n",
    "gprime_r = sym.diff(g,r)\n",
    "gprime_rk = sym.diff(gprime_r,k)\n",
    "gprime_k = sym.diff(g,k)\n",
    "gdprime_k = sym.diff(g,k,2)\n",
    "\n",
    "g = lambdify([r,k,t,N],g)\n",
    "g_rr = lambdify([r,k,t,N],gdprime_r, 'numpy')\n",
    "g_kk = lambdify([r,k,t,N],gdprime_k, 'numpy')\n",
    "g_rk = lambdify([r,k,t,N],gprime_rk, 'numpy')\n",
    "g_r = lambdify([r,k,t,N],gprime_r, 'numpy')\n",
    "g_k = lambdify([r,k,t,N],gprime_k, 'numpy')\n"
   ]
  },
  {
   "cell_type": "markdown",
   "metadata": {},
   "source": [
    "### Lets see Newton-Raphson results"
   ]
  },
  {
   "cell_type": "code",
   "execution_count": 12,
   "metadata": {},
   "outputs": [
    {
     "name": "stdout",
     "output_type": "stream",
     "text": [
      "r and k estimates after 100 iterations:\n",
      "  Iteration        α1       α2  Hessian Matrix                      SE for r    SE for k    Correlation\n",
      "-----------  --------  -------  -------------------------------  -----------  ----------  -------------\n",
      "         97  0.117959  1033.52  [3.06558121e+08 2.32631481e+04]  6.27478e-05    0.342438      -0.414132\n",
      "         98  0.117959  1033.52  [2.32631481e+04 1.02931051e+01]  6.27478e-05    0.342438      -0.414132\n",
      "         99  0.117959  1033.52  [3.06558121e+08 2.32631481e+04]  6.27478e-05    0.342438      -0.414132\n",
      "        100  0.117959  1033.52  [2.32631481e+04 1.02931051e+01]  6.27478e-05    0.342438      -0.414132\n",
      "        101  0.117959  1033.52  [3.06558121e+08 2.32631481e+04]  6.27478e-05    0.342438      -0.414132\n",
      "                                [2.32631481e+04 1.02931051e+01]\n",
      "                                [3.06558121e+08 2.32631481e+04]\n",
      "                                [2.32631481e+04 1.02931051e+01]\n",
      "                                [3.06558121e+08 2.32631481e+04]\n",
      "                                [2.32631481e+04 1.02931051e+01]\n"
     ]
    }
   ],
   "source": [
    "r_Newton,k_Newton = Newton(0.5,200,df['Days'],df['Beetles'],0.001)"
   ]
  },
  {
   "cell_type": "markdown",
   "metadata": {},
   "source": [
    "### Scatter plot of the real data (observations) and the fitted model"
   ]
  },
  {
   "cell_type": "code",
   "execution_count": 13,
   "metadata": {},
   "outputs": [
    {
     "data": {
      "text/plain": [
       "<matplotlib.legend.Legend at 0xc75c0f0>"
      ]
     },
     "execution_count": 13,
     "metadata": {},
     "output_type": "execute_result"
    },
    {
     "data": {
      "image/png": "[encoded data removed]",
      "text/plain": [
       "<Figure size 1008x576 with 1 Axes>"
      ]
     },
     "metadata": {
      "needs_background": "light"
     },
     "output_type": "display_data"
    }
   ],
   "source": [
    "x = np.linspace(0,160,300)\n",
    "y_Newton = f(r_Newton,k_Newton,x)\n",
    "plt.figure(figsize=(14,8))\n",
    "plt.plot(x,y_Newton,linewidth=3)\n",
    "plt.xlabel('$Days$',weight='bold',fontsize=16)\n",
    "plt.ylabel('$Beetles$',weight='bold',fontsize=16)\n",
    "plt.scatter(df['Days'], df['Beetles'], s=200,c='red',marker='o')\n",
    "plt.legend((\"Newton-Raphson Fitted Model\", \"Actual Data\"),fontsize=16)"
   ]
  },
  {
   "cell_type": "markdown",
   "metadata": {},
   "source": [
    "## (c)"
   ]
  },
  {
   "cell_type": "markdown",
   "metadata": {},
   "source": [
    "$Y_t = log N_t \\sim N(log f(t), \\sigma^2)$,\n",
    "\n",
    "$f(t) = \\frac{N_{0}k}{(k-N_{0})e^{-rt}+N_{0}}$\n",
    "\n",
    "$\\Rightarrow \\frac{1}{\\sqrt{2 \\pi \\sigma^2}}\\exp(-\\frac{[Y_{t_{i}}-log f(t_i)]^2}{2\\sigma^2})$\n",
    "\n",
    "and\n",
    "\n",
    "$log [f(t)] = log k +log N_0 - log[N_0+(k-N_0) e^{-rt}]$\n",
    "\n",
    "According to the likelihood definition:\n",
    "\n",
    "$$L(k,r)= \\prod_{i=1}^{n} \\frac{1}{\\sqrt{2 \\pi \\sigma^2}}\\exp(-\\frac{[Y_{t_{i}}-log f(t_i)]^2}{2\\sigma^2})$$\n",
    "\n",
    "And the log-likelihood is:\n",
    "\n",
    "$l(k,r)=log L(k,r)=\\sum_{i = 1}^{n} log(\\frac{1}{\\sqrt{2 \\pi \\sigma^2}}) - \\frac{1}{2\\sigma^2}\\sum_{i = 1}^{n} [Y_{t_{i}}-log f(t_i)]^2$\n",
    "\n",
    "To find the MLE we need to minimize the $\\sum_{i = 1}^{n} [Y_{t_{i}}-log f(t_i)]^2$  because $\\frac{1}{2\\sigma^2} $ (positive) and $\\sum_{i = 1}^{n} log(\\frac{1}{\\sqrt{2 \\pi \\sigma^2}})$ are constants and do not depend on $r$ and $k$"
   ]
  },
  {
   "cell_type": "markdown",
   "metadata": {},
   "source": [
    "### MLE by Gauss–Newton"
   ]
  },
  {
   "cell_type": "markdown",
   "metadata": {},
   "source": [
    "#### We need to define a new function by taking logarithm from the previous function. Then we have to define new derivatives for that"
   ]
  },
  {
   "cell_type": "code",
   "execution_count": 14,
   "metadata": {},
   "outputs": [],
   "source": [
    "r = sym.Symbol('r')\n",
    "k = sym.Symbol('k')\n",
    "t = sym.Symbol('t')\n",
    "\n",
    "func = log(k*2/(2+(k-2)*exp(-r*t)))\n",
    "fprime_r = sym.diff(func,r)\n",
    "fprime_k = sym.diff(func,k)\n",
    "\n",
    "f = lambdify([r,k,t],func)\n",
    "f_r = lambdify([r,k,t],fprime_r, 'numpy')\n",
    "f_k= lambdify([r,k,t],fprime_k, 'numpy')"
   ]
  },
  {
   "cell_type": "markdown",
   "metadata": {},
   "source": [
    "### Lets see Gauss-Newton method's result for the new situation"
   ]
  },
  {
   "cell_type": "code",
   "execution_count": 15,
   "metadata": {},
   "outputs": [
    {
     "name": "stdout",
     "output_type": "stream",
     "text": [
      "  Iteration         r        k    SE for r    SE for k    Correlation\n",
      "-----------  --------  -------  ----------  ----------  -------------\n",
      "          5  0.345974  132.672   0.523402      37.1595     -0.146636\n",
      "          6  0.388238  347.995   0.274484      82.6989     -0.0710988\n",
      "          7  0.399329  576.994   0.131353     114.48       -0.0431969\n",
      "          8  0.40067   664.973   0.0912426    137.293      -0.0319063\n",
      "          9  0.400505  672.044   0.0880074    154.128      -0.0294054\n"
     ]
    }
   ],
   "source": [
    "r_gauss,k_gauss = Newton_Gauss(0.001,.02,np.log(df['Beetles']),df['Days'],0.001)"
   ]
  },
  {
   "cell_type": "markdown",
   "metadata": {},
   "source": [
    "### Scatter plot of the real data (observations) and the fitted model"
   ]
  },
  {
   "cell_type": "code",
   "execution_count": 16,
   "metadata": {},
   "outputs": [
    {
     "data": {
      "text/plain": [
       "<matplotlib.legend.Legend at 0xcb88eb8>"
      ]
     },
     "execution_count": 16,
     "metadata": {},
     "output_type": "execute_result"
    },
    {
     "data": {
      "image/png": "[encoded data removed]",
      "text/plain": [
       "<Figure size 1008x576 with 1 Axes>"
      ]
     },
     "metadata": {
      "needs_background": "light"
     },
     "output_type": "display_data"
    }
   ],
   "source": [
    "x = np.linspace(0,160,300)\n",
    "y_gauss = f(r_gauss,k_gauss,x)\n",
    "plt.figure(figsize=(14,8))\n",
    "plt.plot(x,y_gauss,linewidth=3)\n",
    "plt.xlabel('$Days$',weight='bold',fontsize=16)\n",
    "plt.ylabel('$Beetles$',weight='bold',fontsize=16)\n",
    "plt.scatter(df['Days'], np.log(df['Beetles']), s=200,c='red',marker='^')\n",
    "plt.legend((\"Gauss–Newton Fitted Model\", \"Actual Data\"),fontsize=16)"
   ]
  },
  {
   "cell_type": "markdown",
   "metadata": {},
   "source": [
    "### MLE by Newton-Raphson"
   ]
  },
  {
   "cell_type": "markdown",
   "metadata": {},
   "source": [
    "#### we need to define a new function and compute its first and second derivatives"
   ]
  },
  {
   "cell_type": "code",
   "execution_count": 17,
   "metadata": {},
   "outputs": [],
   "source": [
    "N = sym.Symbol('N')\n",
    "g = (N-func)**2\n",
    "\n",
    "gdprime_r = sym.diff(g,r,2)\n",
    "gprime_r = sym.diff(g,r)\n",
    "gprime_rk = sym.diff(gprime_r,k)\n",
    "gprime_k = sym.diff(g,k)\n",
    "gdprime_k = sym.diff(g,k,2)\n",
    "\n",
    "g = lambdify([r,k,t,N],g)\n",
    "g_rr = lambdify([r,k,t,N],gdprime_r, 'numpy')\n",
    "g_kk = lambdify([r,k,t,N],gdprime_k, 'numpy')\n",
    "g_rk = lambdify([r,k,t,N],gprime_rk, 'numpy')\n",
    "g_r = lambdify([r,k,t,N],gprime_r, 'numpy')\n",
    "g_k = lambdify([r,k,t,N],gprime_k, 'numpy')"
   ]
  },
  {
   "cell_type": "markdown",
   "metadata": {},
   "source": [
    "### Lets see the Newton-Raphson results for that"
   ]
  },
  {
   "cell_type": "code",
   "execution_count": 18,
   "metadata": {},
   "outputs": [
    {
     "name": "stdout",
     "output_type": "stream",
     "text": [
      "r and k estimates after 100 iterations:\n",
      "  Iteration        α1       α2  Hessian Matrix                     SE for r    SE for k    Correlation\n",
      "-----------  --------  -------  -------------------------------  ----------  ----------  -------------\n",
      "         97  0.400461  672.091  [1.02425202e+02 2.27122131e-03]   0.0988794     168.238     -0.0377286\n",
      "         98  0.400461  672.091  [2.27122131e-03 3.53810684e-05]   0.0988794     168.238     -0.0377286\n",
      "         99  0.400461  672.091  [1.02425202e+02 2.27122131e-03]   0.0988794     168.238     -0.0377286\n",
      "        100  0.400461  672.091  [2.27122131e-03 3.53810684e-05]   0.0988794     168.238     -0.0377286\n",
      "        101  0.400461  672.091  [1.02425202e+02 2.27122131e-03]   0.0988794     168.238     -0.0377286\n",
      "                                [2.27122131e-03 3.53810684e-05]\n",
      "                                [1.02425202e+02 2.27122131e-03]\n",
      "                                [2.27122131e-03 3.53810684e-05]\n",
      "                                [1.02425202e+02 2.27122131e-03]\n",
      "                                [2.27122131e-03 3.53810684e-05]\n"
     ]
    }
   ],
   "source": [
    "r_Newton,k_Newton = Newton(0.5,200,df['Days'],np.log(df['Beetles']),0.001)"
   ]
  },
  {
   "cell_type": "markdown",
   "metadata": {},
   "source": [
    "### Scatter plot of the real data (observations) and the fitted model"
   ]
  },
  {
   "cell_type": "code",
   "execution_count": 19,
   "metadata": {},
   "outputs": [
    {
     "data": {
      "text/plain": [
       "<matplotlib.legend.Legend at 0xcc2b6d8>"
      ]
     },
     "execution_count": 19,
     "metadata": {},
     "output_type": "execute_result"
    },
    {
     "data": {
      "image/png": "[encoded data removed]",
      "text/plain": [
       "<Figure size 1008x576 with 1 Axes>"
      ]
     },
     "metadata": {
      "needs_background": "light"
     },
     "output_type": "display_data"
    }
   ],
   "source": [
    "x = np.linspace(0,160,300)\n",
    "y_Newton = f(r_Newton,k_Newton,x)\n",
    "plt.figure(figsize=(14,8))\n",
    "plt.plot(x,y_Newton,linewidth=3)\n",
    "plt.xlabel('$Days$',weight='bold',fontsize=16)\n",
    "plt.ylabel('$Beetles$',weight='bold',fontsize=16)\n",
    "plt.scatter(df['Days'], np.log(df['Beetles']), s=200,c='red',marker='o')\n",
    "plt.legend((\"Newton-Raphson Fitted Model\", \"Actual Data\"),fontsize=16)"
   ]
  },
  {
   "cell_type": "markdown",
   "metadata": {},
   "source": [
    "**-Standard Error for the Newton-Raphson estimates is greater than Gauss-Newton's method and the correlation between two parameters for both methods is close to zero. However, Gauss-Newton's method is highly dependent on initial value selection and can easily fail to estimate the parameters correctly.**"
   ]
  },
  {
   "cell_type": "markdown",
   "metadata": {},
   "source": [
    "# 2."
   ]
  },
  {
   "cell_type": "markdown",
   "metadata": {},
   "source": [
    "### Lets read the data"
   ]
  },
  {
   "cell_type": "code",
   "execution_count": 20,
   "metadata": {},
   "outputs": [],
   "source": [
    "x = np.array([85,196,341])\n",
    "n = zeros(6)\n",
    "p = np.array([1/3,1/3,1/3])\n",
    "itr = 50"
   ]
  },
  {
   "cell_type": "markdown",
   "metadata": {},
   "source": [
    "### We define Expectation function"
   ]
  },
  {
   "cell_type": "code",
   "execution_count": 21,
   "metadata": {},
   "outputs": [],
   "source": [
    "def E_step(x,p):\n",
    "    cc = x[0]*(p[0]**2)/(p[0]**2+2*p[0]*p[1]+2*p[0]*p[2])\n",
    "    ci = 2*x[0]*p[0]*p[1]/(p[0]**2+2*p[0]*p[1]+2*p[0]*p[2])\n",
    "    ct = 2*x[0]*p[0]*p[2]/(p[0]**2+2*p[0]*p[1]+2*p[0]*p[2])\n",
    "    ii = x[1]*(p[1]**2)/(p[1]**2+2*p[1]*p[2])\n",
    "    it = 2*x[1]*p[1]*p[2]/(p[1]**2+2*p[1]*p[2])\n",
    "    n = np.array([cc,ci,ct,ii,it,x[2]])\n",
    "    return n"
   ]
  },
  {
   "cell_type": "markdown",
   "metadata": {},
   "source": [
    "### The next step is to define a function Maximization"
   ]
  },
  {
   "cell_type": "code",
   "execution_count": 22,
   "metadata": {},
   "outputs": [],
   "source": [
    "def M_step(x,n):\n",
    "    c = (2*n[0]+n[1]+n[2])/(2*sum(x))\n",
    "    i = (2*n[3]+n[4]+n[1])/(2*sum(x))\n",
    "    t = (2*n[5]+n[2]+n[4])/(2*sum(x))\n",
    "    p = np.array([c,i,t])\n",
    "    return p"
   ]
  },
  {
   "cell_type": "markdown",
   "metadata": {},
   "source": [
    "### We produce Expectation and Maximum "
   ]
  },
  {
   "cell_type": "code",
   "execution_count": 23,
   "metadata": {},
   "outputs": [],
   "source": [
    "p1=p\n",
    "for i in np.arange(1,itr):\n",
    "    n1 = E_step(x,p1)\n",
    "    p1 = M_step(x,n1)"
   ]
  },
  {
   "cell_type": "markdown",
   "metadata": {},
   "source": [
    "### EM optimization function"
   ]
  },
  {
   "cell_type": "code",
   "execution_count": 24,
   "metadata": {},
   "outputs": [],
   "source": [
    "def EM(x,p,p1,eps):\n",
    "    R=1\n",
    "    itr=0\n",
    "    header=['Iteration','P_C\\u207D\\u1d57\\u207E', 'P_I\\u207D\\u1d57\\u207E',\n",
    "            'R\\u207D\\u1d57\\u207E',\"D_C\\u207D\\u1d57\\u207E\",'D_I\\u207D\\u1d57\\u207E']\n",
    "    if itr==0:\n",
    "        table = [[itr,p[0],p[1],None,None,None]]\n",
    "        print(tabulate(table,headers=header))\n",
    "        \n",
    "    while R > eps:\n",
    "        p0=p\n",
    "        n = E_step(x,p)\n",
    "        p = M_step(x,n)\n",
    "        R = np.sqrt(sum((p[0:2]-p0[0:2])**2))/np.sqrt(sum(p0[0:2]**2))\n",
    "        D_c = (p[0] - p1[0]) / (p0[0] - p1[0])\n",
    "        D_i = (p[1] - p1[1]) / (p0[1] - p1[1])\n",
    "        table = [[itr,p[0],p[1],R,D_c,D_i]]\n",
    "        print(tabulate(table,headers=header))     \n",
    "        itr+=1\n"
   ]
  },
  {
   "cell_type": "markdown",
   "metadata": {},
   "source": [
    "### EM results"
   ]
  },
  {
   "cell_type": "code",
   "execution_count": 25,
   "metadata": {},
   "outputs": [
    {
     "name": "stdout",
     "output_type": "stream",
     "text": [
      "  Iteration    P_C⁽ᵗ⁾    P_I⁽ᵗ⁾  R⁽ᵗ⁾    D_C⁽ᵗ⁾    D_I⁽ᵗ⁾\n",
      "-----------  --------  --------  ------  --------  --------\n",
      "          0  0.333333  0.333333\n",
      "  Iteration     P_C⁽ᵗ⁾    P_I⁽ᵗ⁾      R⁽ᵗ⁾     D_C⁽ᵗ⁾    D_I⁽ᵗ⁾\n",
      "-----------  ---------  --------  --------  ---------  --------\n",
      "          0  0.0819936  0.237406  0.570685  0.0425021  0.336589\n",
      "  Iteration    P_C⁽ᵗ⁾    P_I⁽ᵗ⁾      R⁽ᵗ⁾     D_C⁽ᵗ⁾    D_I⁽ᵗ⁾\n",
      "-----------  --------  --------  --------  ---------  --------\n",
      "          1  0.071249   0.19787  0.163121  0.0369326  0.187655\n",
      "  Iteration    P_C⁽ᵗ⁾    P_I⁽ᵗ⁾      R⁽ᵗ⁾     D_C⁽ᵗ⁾    D_I⁽ᵗ⁾\n",
      "-----------  --------  --------  --------  ---------  --------\n",
      "          2  0.070852   0.19036  0.035756  0.0367268  0.177799\n",
      "  Iteration     P_C⁽ᵗ⁾    P_I⁽ᵗ⁾        R⁽ᵗ⁾     D_C⁽ᵗ⁾    D_I⁽ᵗ⁾\n",
      "-----------  ---------  --------  ----------  ---------  --------\n",
      "          3  0.0708375  0.189023  0.00658604  0.0367193  0.176241\n",
      "  Iteration     P_C⁽ᵗ⁾    P_I⁽ᵗ⁾        R⁽ᵗ⁾    D_C⁽ᵗ⁾    D_I⁽ᵗ⁾\n",
      "-----------  ---------  --------  ----------  --------  --------\n",
      "          4  0.0708369  0.188787  0.00116832  0.036719  0.175946\n",
      "  Iteration     P_C⁽ᵗ⁾    P_I⁽ᵗ⁾       R⁽ᵗ⁾    D_C⁽ᵗ⁾    D_I⁽ᵗ⁾\n",
      "-----------  ---------  --------  ---------  --------  --------\n",
      "          5  0.0708369  0.188745  0.0002058  0.036719  0.175888\n",
      "  Iteration     P_C⁽ᵗ⁾    P_I⁽ᵗ⁾         R⁽ᵗ⁾    D_C⁽ᵗ⁾    D_I⁽ᵗ⁾\n",
      "-----------  ---------  --------  -----------  --------  --------\n",
      "          6  0.0708369  0.188738  3.62052e-05  0.036719  0.175876\n",
      "  Iteration     P_C⁽ᵗ⁾    P_I⁽ᵗ⁾         R⁽ᵗ⁾     D_C⁽ᵗ⁾    D_I⁽ᵗ⁾\n",
      "-----------  ---------  --------  -----------  ---------  --------\n",
      "          7  0.0708369  0.188737  6.36786e-06  0.0367197  0.175873\n"
     ]
    }
   ],
   "source": [
    "EM(x,p,p1,0.00001)"
   ]
  }
 ],
 "metadata": {
  "kernelspec": {
   "display_name": "Python 3",
   "language": "python",
   "name": "python3"
  },
  "language_info": {
   "codemirror_mode": {
    "name": "ipython",
    "version": 3
   },
   "file_extension": ".py",
   "mimetype": "text/x-python",
   "name": "python",
   "nbconvert_exporter": "python",
   "pygments_lexer": "ipython3",
   "version": "3.7.3"
  }
 },
 "nbformat": 4,
 "nbformat_minor": 2
}
