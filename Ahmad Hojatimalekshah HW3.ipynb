{
 "cells": [
  {
   "cell_type": "markdown",
   "metadata": {},
   "source": [
    "## HW3"
   ]
  },
  {
   "cell_type": "markdown",
   "metadata": {},
   "source": [
    "### Ahmad Hojatimalekshah"
   ]
  },
  {
   "cell_type": "markdown",
   "metadata": {},
   "source": [
    "### Load Libraries"
   ]
  },
  {
   "cell_type": "code",
   "execution_count": 1,
   "metadata": {},
   "outputs": [],
   "source": [
    "import pandas as pd\n",
    "import seaborn as sb\n",
    "import matplotlib.pyplot as plt\n",
    "import numpy as np\n",
    "import sympy as sym\n",
    "from sympy import *\n",
    "from numpy.linalg import inv\n",
    "from tabulate import tabulate\n",
    "from numpy import ma\n",
    "from matplotlib import ticker, cm\n",
    "import time\n",
    "from scipy.optimize import fmin\n",
    "from scipy.stats import *"
   ]
  },
  {
   "cell_type": "markdown",
   "metadata": {},
   "source": [
    "### Q.1"
   ]
  },
  {
   "cell_type": "markdown",
   "metadata": {},
   "source": [
    "#### Reading the Data"
   ]
  },
  {
   "cell_type": "markdown",
   "metadata": {},
   "source": [
    "**`eyediff` : pixel intensity differences in the eye region**\n",
    "\n",
    "\n",
    "**The response variable is `\"match\"`, with match=1 indicating that the probe image was correctly matched to the\n",
    "other image of the same person and match=0 indicating that the probe was incorrectly matched to an image of someone else.**"
   ]
  },
  {
   "cell_type": "code",
   "execution_count": 2,
   "metadata": {},
   "outputs": [],
   "source": [
    "data = pd.read_table(\"facerecognition.dat\", sep=\"\\s+\")"
   ]
  },
  {
   "cell_type": "code",
   "execution_count": 3,
   "metadata": {},
   "outputs": [
    {
     "data": {
      "text/html": [
       "<div>\n",
       "<style scoped>\n",
       "    .dataframe tbody tr th:only-of-type {\n",
       "        vertical-align: middle;\n",
       "    }\n",
       "\n",
       "    .dataframe tbody tr th {\n",
       "        vertical-align: top;\n",
       "    }\n",
       "\n",
       "    .dataframe thead th {\n",
       "        text-align: right;\n",
       "    }\n",
       "</style>\n",
       "<table border=\"1\" class=\"dataframe\">\n",
       "  <thead>\n",
       "    <tr style=\"text-align: right;\">\n",
       "      <th></th>\n",
       "      <th>match</th>\n",
       "      <th>eyediff</th>\n",
       "      <th>nosecheekdiff</th>\n",
       "      <th>variabilityratio</th>\n",
       "    </tr>\n",
       "  </thead>\n",
       "  <tbody>\n",
       "    <tr>\n",
       "      <td>0</td>\n",
       "      <td>1</td>\n",
       "      <td>0.009683</td>\n",
       "      <td>0.027914</td>\n",
       "      <td>1.086204</td>\n",
       "    </tr>\n",
       "    <tr>\n",
       "      <td>1</td>\n",
       "      <td>1</td>\n",
       "      <td>0.027614</td>\n",
       "      <td>0.017821</td>\n",
       "      <td>0.989840</td>\n",
       "    </tr>\n",
       "    <tr>\n",
       "      <td>2</td>\n",
       "      <td>1</td>\n",
       "      <td>0.015367</td>\n",
       "      <td>0.025832</td>\n",
       "      <td>1.010983</td>\n",
       "    </tr>\n",
       "    <tr>\n",
       "      <td>3</td>\n",
       "      <td>1</td>\n",
       "      <td>0.013371</td>\n",
       "      <td>0.024048</td>\n",
       "      <td>1.012724</td>\n",
       "    </tr>\n",
       "    <tr>\n",
       "      <td>4</td>\n",
       "      <td>1</td>\n",
       "      <td>0.011428</td>\n",
       "      <td>0.017801</td>\n",
       "      <td>1.044396</td>\n",
       "    </tr>\n",
       "  </tbody>\n",
       "</table>\n",
       "</div>"
      ],
      "text/plain": [
       "   match   eyediff  nosecheekdiff  variabilityratio\n",
       "0      1  0.009683       0.027914          1.086204\n",
       "1      1  0.027614       0.017821          0.989840\n",
       "2      1  0.015367       0.025832          1.010983\n",
       "3      1  0.013371       0.024048          1.012724\n",
       "4      1  0.011428       0.017801          1.044396"
      ]
     },
     "execution_count": 3,
     "metadata": {},
     "output_type": "execute_result"
    }
   ],
   "source": [
    "data.head()"
   ]
  },
  {
   "cell_type": "markdown",
   "metadata": {},
   "source": [
    "### Iteratively Reweighted Least Squares"
   ]
  },
  {
   "cell_type": "code",
   "execution_count": 4,
   "metadata": {},
   "outputs": [],
   "source": [
    "def IRLS(y,z,n,Beta0):\n",
    "    Z = np.vstack((np.ones(len(z)),z))\n",
    "    header=['Iteration,t','\\u03B2\\u207D\\u1d57\\u207E', '-l\\u2033(\\u03B2\\u207D\\u1d57\\u207E)\\u207B\\u00B9']\n",
    "    Beta = np.zeros((2,n))\n",
    "    Beta[0,0] = Beta0\n",
    "    for i in range(1,n):\n",
    "        p = 1-1/(1+np.exp(np.dot(Z.transpose(),Beta[:,i-1])))\n",
    "        l_prime = np.dot(Z, (y-p))\n",
    "        W = np.diag(p*(1-p))\n",
    "        l_zegond = -Z.dot(W).dot(Z.transpose())\n",
    "        Beta[:,i] = Beta[:,i-1]-np.dot(inv(l_zegond),l_prime)\n",
    "        table = [[i-1,Beta[:,i-1],-inv(l_zegond)]]\n",
    "        print(tabulate(table,headers=header))\n",
    "    #return Beta , -inv(l_zegond)\n",
    "    \n",
    "    "
   ]
  },
  {
   "cell_type": "markdown",
   "metadata": {},
   "source": [
    "#### a."
   ]
  },
  {
   "cell_type": "code",
   "execution_count": 5,
   "metadata": {},
   "outputs": [
    {
     "name": "stdout",
     "output_type": "stream",
     "text": [
      "  Iteration,t  β⁽ᵗ⁾               -l″(β⁽ᵗ⁾)⁻¹\n",
      "-------------  -----------------  ---------------------------\n",
      "            0  [0.95913 0.     ]  [[ 0.01096355 -0.11774922]\n",
      "                                   [-0.11774922  2.24636741]]\n",
      "  Iteration,t  β⁽ᵗ⁾                         -l″(β⁽ᵗ⁾)⁻¹\n",
      "-------------  ---------------------------  ---------------------------\n",
      "            1  [  1.72028763 -13.90963144]  [[ 0.01376919 -0.14444378]\n",
      "                                             [-0.14444378  2.43426036]]\n",
      "  Iteration,t  β⁽ᵗ⁾                         -l″(β⁽ᵗ⁾)⁻¹\n",
      "-------------  ---------------------------  ---------------------------\n",
      "            2  [  1.75721969 -13.38389891]  [[ 0.01399076 -0.14439871]\n",
      "                                             [-0.14439871  2.40178607]]\n",
      "  Iteration,t  β⁽ᵗ⁾                         -l″(β⁽ᵗ⁾)⁻¹\n",
      "-------------  ---------------------------  ---------------------------\n",
      "            3  [  1.75870063 -13.40003398]  [[ 0.01400062 -0.1445039 ]\n",
      "                                             [-0.1445039   2.40316643]]\n",
      "  Iteration,t  β⁽ᵗ⁾                         -l″(β⁽ᵗ⁾)⁻¹\n",
      "-------------  ---------------------------  ---------------------------\n",
      "            4  [  1.75870116 -13.40003968]  [[ 0.01400062 -0.14450394]\n",
      "                                             [-0.14450394  2.40316692]]\n",
      "  Iteration,t  β⁽ᵗ⁾                         -l″(β⁽ᵗ⁾)⁻¹\n",
      "-------------  ---------------------------  ---------------------------\n",
      "            5  [  1.75870116 -13.40003968]  [[ 0.01400062 -0.14450394]\n",
      "                                             [-0.14450394  2.40316692]]\n",
      "  Iteration,t  β⁽ᵗ⁾                         -l″(β⁽ᵗ⁾)⁻¹\n",
      "-------------  ---------------------------  ---------------------------\n",
      "            6  [  1.75870116 -13.40003968]  [[ 0.01400062 -0.14450394]\n",
      "                                             [-0.14450394  2.40316692]]\n",
      "  Iteration,t  β⁽ᵗ⁾                         -l″(β⁽ᵗ⁾)⁻¹\n",
      "-------------  ---------------------------  ---------------------------\n",
      "            7  [  1.75870116 -13.40003968]  [[ 0.01400062 -0.14450394]\n",
      "                                             [-0.14450394  2.40316692]]\n",
      "  Iteration,t  β⁽ᵗ⁾                         -l″(β⁽ᵗ⁾)⁻¹\n",
      "-------------  ---------------------------  ---------------------------\n",
      "            8  [  1.75870116 -13.40003968]  [[ 0.01400062 -0.14450394]\n",
      "                                             [-0.14450394  2.40316692]]\n"
     ]
    }
   ],
   "source": [
    "Beta = IRLS(data['match'],data['eyediff'],10,0.95913)\n",
    "Beta"
   ]
  },
  {
   "cell_type": "markdown",
   "metadata": {},
   "source": [
    "#### b."
   ]
  },
  {
   "cell_type": "code",
   "execution_count": 6,
   "metadata": {},
   "outputs": [
    {
     "name": "stdout",
     "output_type": "stream",
     "text": [
      "  Iteration,t  β⁽ᵗ⁾     -l″(β⁽ᵗ⁾)⁻¹\n",
      "-------------  -------  ---------------------------\n",
      "            0  [0. 0.]  [[ 0.00878375 -0.09433803]\n",
      "                         [-0.09433803  1.79973903]]\n",
      "  Iteration,t  β⁽ᵗ⁾                         -l″(β⁽ᵗ⁾)⁻¹\n",
      "-------------  ---------------------------  ---------------------------\n",
      "            1  [  1.5016127  -11.14408376]  [[ 0.01246462 -0.12936371]\n",
      "                                             [-0.12936371  2.21900238]]\n",
      "  Iteration,t  β⁽ᵗ⁾                         -l″(β⁽ᵗ⁾)⁻¹\n",
      "-------------  ---------------------------  ---------------------------\n",
      "            2  [  1.74440309 -13.26669118]  [[ 0.01390619 -0.14355394]\n",
      "                                             [-0.14355394  2.39141906]]\n",
      "  Iteration,t  β⁽ᵗ⁾                         -l″(β⁽ᵗ⁾)⁻¹\n",
      "-------------  ---------------------------  ---------------------------\n",
      "            3  [  1.75865273 -13.3995696 ]  [[ 0.0140003  -0.14450065]\n",
      "                                             [-0.14450065  2.40312566]]\n",
      "  Iteration,t  β⁽ᵗ⁾                         -l″(β⁽ᵗ⁾)⁻¹\n",
      "-------------  ---------------------------  ---------------------------\n",
      "            4  [  1.75870116 -13.40003968]  [[ 0.01400062 -0.14450394]\n",
      "                                             [-0.14450394  2.40316692]]\n",
      "  Iteration,t  β⁽ᵗ⁾                         -l″(β⁽ᵗ⁾)⁻¹\n",
      "-------------  ---------------------------  ---------------------------\n",
      "            5  [  1.75870116 -13.40003968]  [[ 0.01400062 -0.14450394]\n",
      "                                             [-0.14450394  2.40316692]]\n",
      "  Iteration,t  β⁽ᵗ⁾                         -l″(β⁽ᵗ⁾)⁻¹\n",
      "-------------  ---------------------------  ---------------------------\n",
      "            6  [  1.75870116 -13.40003968]  [[ 0.01400062 -0.14450394]\n",
      "                                             [-0.14450394  2.40316692]]\n",
      "  Iteration,t  β⁽ᵗ⁾                         -l″(β⁽ᵗ⁾)⁻¹\n",
      "-------------  ---------------------------  ---------------------------\n",
      "            7  [  1.75870116 -13.40003968]  [[ 0.01400062 -0.14450394]\n",
      "                                             [-0.14450394  2.40316692]]\n",
      "  Iteration,t  β⁽ᵗ⁾                         -l″(β⁽ᵗ⁾)⁻¹\n",
      "-------------  ---------------------------  ---------------------------\n",
      "            8  [  1.75870116 -13.40003968]  [[ 0.01400062 -0.14450394]\n",
      "                                             [-0.14450394  2.40316692]]\n"
     ]
    }
   ],
   "source": [
    "Beta = IRLS(data['match'],data['eyediff'],10,0)\n",
    "Beta"
   ]
  },
  {
   "cell_type": "markdown",
   "metadata": {},
   "source": [
    "#### c."
   ]
  },
  {
   "cell_type": "markdown",
   "metadata": {},
   "source": [
    "#### Lets define a loglikelihood function"
   ]
  },
  {
   "cell_type": "code",
   "execution_count": 7,
   "metadata": {},
   "outputs": [],
   "source": [
    "def loglklihd(y,z,Beta0,Beta1):\n",
    "    Z = np.vstack((np.ones(len(z)),z))\n",
    "    #Beta = np.vstack((Beta0,Beta1))\n",
    "    X, Y = np.meshgrid(Beta0, Beta1)\n",
    "    n = len(Beta0)\n",
    "    x0 = np.reshape(X,n**2)\n",
    "    y0 = np.reshape(Y,n**2)\n",
    "    Beta = np.vstack((x0,y0))\n",
    "    l = np.zeros(n**2)\n",
    "    for i in range(1,n**2):\n",
    "        p = 1-1/(1+np.exp(np.dot(Z.transpose(),Beta[:,i-1])))\n",
    "        b = -np.log(1-p)\n",
    "        l[i] = y.transpose().dot(Z.transpose()).dot(Beta[:,i-1])-sum(b)\n",
    "    return np.reshape(l,(n,n))\n",
    "        "
   ]
  },
  {
   "cell_type": "markdown",
   "metadata": {},
   "source": [
    "#### Initial Values"
   ]
  },
  {
   "cell_type": "code",
   "execution_count": 8,
   "metadata": {},
   "outputs": [],
   "source": [
    "Beta0 = np.linspace(-5,5,100)\n",
    "Beta1 = np.linspace(-50,50,100)\n",
    "X, Y = np.meshgrid(Beta0, Beta1)"
   ]
  },
  {
   "cell_type": "code",
   "execution_count": 9,
   "metadata": {},
   "outputs": [],
   "source": [
    "l =loglklihd(data['match'],data['eyediff'],Beta0,Beta1)"
   ]
  },
  {
   "cell_type": "markdown",
   "metadata": {},
   "source": [
    "#### Contour Plot"
   ]
  },
  {
   "cell_type": "code",
   "execution_count": 10,
   "metadata": {},
   "outputs": [
    {
     "name": "stderr",
     "output_type": "stream",
     "text": [
      "C:\\ProgramData\\Anaconda\\lib\\site-packages\\ipykernel_launcher.py:3: UserWarning: linewidths is ignored by contourf\n",
      "  This is separate from the ipykernel package so we can avoid doing imports until\n"
     ]
    },
    {
     "data": {
      "text/plain": [
       "<matplotlib.colorbar.Colorbar at 0x1ebb7615160>"
      ]
     },
     "execution_count": 10,
     "metadata": {},
     "output_type": "execute_result"
    },
    {
     "data": {
      "image/png": "[encoded data removed]",
      "text/plain": [
       "<Figure size 1440x720 with 2 Axes>"
      ]
     },
     "metadata": {
      "needs_background": "light"
     },
     "output_type": "display_data"
    }
   ],
   "source": [
    "plt.figure(figsize = (20,10))\n",
    "plt.contour(X, Y, l, colors='black', linestyles='dashed', linewidths=2)\n",
    "cs = plt.contourf(X, Y, l, linewidths=1,cmap=cm.PuBu_r)\n",
    "plt.ylabel(r'$\\beta1$',weight='bold',fontsize=16)\n",
    "plt.xlabel(r'$\\beta0$',weight='bold',fontsize=16)\n",
    "plt.plot([0.95913,1.72028763,1.75721969,1.75870063,1.75870116],\n",
    "         [0,-13.90963144,-13.38389891,-13.40003398,-13.40003968],marker='o',ms=10,linewidth=2,color='g')\n",
    "plt.text(1, 2, r'$\\beta_{(a)}$', fontsize=20)\n",
    "plt.plot([0,1.5016127,1.74440309,1.75865273,1.75870116],\n",
    "         [0,-11.14408376,-13.26669118,-13.3995696,-13.40003968],marker='o',ms=10,linewidth=2,color='r')\n",
    "plt.text(0, 2, r'$\\beta_{(b)}$', fontsize=20)\n",
    "plt.colorbar(cs)"
   ]
  },
  {
   "cell_type": "markdown",
   "metadata": {},
   "source": [
    "### Q2."
   ]
  },
  {
   "cell_type": "markdown",
   "metadata": {},
   "source": [
    "#### For $Cauchy(\\theta,1)$"
   ]
  },
  {
   "cell_type": "markdown",
   "metadata": {},
   "source": [
    "$$f(x) = \\frac{1}{{\\pi}(1+{(x-\\theta)}^2)}$$"
   ]
  },
  {
   "cell_type": "markdown",
   "metadata": {},
   "source": [
    "#### Samples"
   ]
  },
  {
   "cell_type": "code",
   "execution_count": 11,
   "metadata": {},
   "outputs": [],
   "source": [
    "x0= np.array([1.77, -0.23, 2.76, 3.80, 3.47, 56.75, -1.34, 4.24, -2.44, 3.29,\n",
    "    3.71, -2.40, 4.53, -0.07, -1.05, -13.87, -2.53, -1.75, 0.27, 43.21])"
   ]
  },
  {
   "cell_type": "markdown",
   "metadata": {},
   "source": [
    "#### a.\n"
   ]
  },
  {
   "cell_type": "markdown",
   "metadata": {},
   "source": [
    "#### Likelihood function graph"
   ]
  },
  {
   "cell_type": "code",
   "execution_count": 12,
   "metadata": {},
   "outputs": [],
   "source": [
    "def loglikelihood(func,x0,theta0):\n",
    "    n = len(theta0)\n",
    "    L = np.zeros(n)\n",
    "    for i in range(0,n):\n",
    "        L[i] = log(np.prod(func(x0,theta0[i])))\n",
    "    return L"
   ]
  },
  {
   "cell_type": "markdown",
   "metadata": {},
   "source": [
    "#### Define f and f' function"
   ]
  },
  {
   "cell_type": "code",
   "execution_count": 13,
   "metadata": {},
   "outputs": [
    {
     "data": {
      "text/latex": [
       "$\\displaystyle \\frac{1}{3.14159265358979 \\left(- t + x\\right)^{2} + 3.14159265358979}$"
      ],
      "text/plain": [
       "1/(3.14159265358979*(-t + x)**2 + 3.14159265358979)"
      ]
     },
     "execution_count": 13,
     "metadata": {},
     "output_type": "execute_result"
    }
   ],
   "source": [
    "theta0 = np.linspace(-100,100, num=1000)\n",
    "x = sym.Symbol('x')\n",
    "theta = sym.Symbol('t')\n",
    "f = 1/(np.pi*(1+(x-theta)**2))\n",
    "f_x = lambdify([x,theta], f, 'numpy')\n",
    "f"
   ]
  },
  {
   "cell_type": "markdown",
   "metadata": {},
   "source": [
    "#### Plot the likelihood"
   ]
  },
  {
   "cell_type": "code",
   "execution_count": 14,
   "metadata": {},
   "outputs": [
    {
     "data": {
      "text/plain": [
       "<matplotlib.lines.Line2D at 0x1ebb845bfd0>"
      ]
     },
     "execution_count": 14,
     "metadata": {},
     "output_type": "execute_result"
    },
    {
     "data": {
      "image/png": "[encoded data removed]",
      "text/plain": [
       "<Figure size 1008x576 with 1 Axes>"
      ]
     },
     "metadata": {
      "needs_background": "light"
     },
     "output_type": "display_data"
    }
   ],
   "source": [
    "x = theta0\n",
    "y = loglikelihood(f_x,x0,theta0)\n",
    "plt.figure(figsize=(14,8))\n",
    "plt.plot(x,y,linewidth=3)\n",
    "plt.xlabel('${\\Theta}$',weight='bold',fontsize=16)\n",
    "plt.ylabel('$loglikelihood$',weight='bold',fontsize=16)\n",
    "plt.axvline(x=-0.192286511918108,linewidth=2,color='r', linestyle='--')"
   ]
  },
  {
   "cell_type": "markdown",
   "metadata": {},
   "source": [
    "#### Define Likelihood function for Cauchy"
   ]
  },
  {
   "cell_type": "code",
   "execution_count": 15,
   "metadata": {},
   "outputs": [],
   "source": [
    "def lglklihd(x0):\n",
    "    l = 1\n",
    "    t = sym.Symbol('t')\n",
    "    for i in range(0,len(x0)):\n",
    "        l *= 1/(np.pi*(1+(x0[i]-t)**2))\n",
    "    return log(l)"
   ]
  },
  {
   "cell_type": "markdown",
   "metadata": {},
   "source": [
    "#### Compute f', f\" for Newton's Method"
   ]
  },
  {
   "cell_type": "code",
   "execution_count": 16,
   "metadata": {},
   "outputs": [],
   "source": [
    "f_t = lglklihd(x0)\n",
    "t = sym.Symbol('t')\n",
    "fprime = sym.diff(f_t)\n",
    "fzegond = sym.diff(fprime)\n",
    "h = -fprime/fzegond\n",
    "f = lambdify(t, h, 'numpy')\n",
    "g = lambdify(t,fprime, 'numpy')\n",
    "k = lambdify(t,fzegond, 'numpy')"
   ]
  },
  {
   "cell_type": "markdown",
   "metadata": {},
   "source": [
    "### Newton's Method"
   ]
  },
  {
   "cell_type": "code",
   "execution_count": 17,
   "metadata": {},
   "outputs": [],
   "source": [
    "def Newton(f,g,a,eps):\n",
    "    i=0\n",
    "    while abs(g(a))>eps:\n",
    "        a = a+f(a)\n",
    "        i+=1\n",
    "    print('Number of iteration = {}'.format(i))\n",
    "    print('The maximum of f(\\u03B8) with respect to \\u03B8 is achieved at {}'.format(a))\n",
    "    return a"
   ]
  },
  {
   "cell_type": "code",
   "execution_count": 18,
   "metadata": {},
   "outputs": [
    {
     "name": "stdout",
     "output_type": "stream",
     "text": [
      "Number of iteration = 13\n",
      "The maximum of f(θ) with respect to θ is achieved at -51318.900080670166\n"
     ]
    },
    {
     "data": {
      "text/plain": [
       "-51318.900080670166"
      ]
     },
     "execution_count": 18,
     "metadata": {},
     "output_type": "execute_result"
    }
   ],
   "source": [
    "Newton(f,g,-11,1e-3)"
   ]
  },
  {
   "cell_type": "code",
   "execution_count": 19,
   "metadata": {},
   "outputs": [
    {
     "name": "stdout",
     "output_type": "stream",
     "text": [
      "Number of iteration = 3\n",
      "The maximum of f(θ) with respect to θ is achieved at -0.19228646762465892\n"
     ]
    },
    {
     "data": {
      "text/plain": [
       "-0.19228646762465892"
      ]
     },
     "execution_count": 19,
     "metadata": {},
     "output_type": "execute_result"
    }
   ],
   "source": [
    "Newton(f,g,-1,1e-6)"
   ]
  },
  {
   "cell_type": "code",
   "execution_count": 20,
   "metadata": {},
   "outputs": [
    {
     "name": "stdout",
     "output_type": "stream",
     "text": [
      "Number of iteration = 3\n",
      "The maximum of f(θ) with respect to θ is achieved at -0.19228661322559568\n"
     ]
    },
    {
     "data": {
      "text/plain": [
       "-0.19228661322559568"
      ]
     },
     "execution_count": 20,
     "metadata": {},
     "output_type": "execute_result"
    }
   ],
   "source": [
    "Newton(f,g,0,1e-6)"
   ]
  },
  {
   "cell_type": "code",
   "execution_count": 21,
   "metadata": {},
   "outputs": [
    {
     "name": "stdout",
     "output_type": "stream",
     "text": [
      "Number of iteration = 4\n",
      "The maximum of f(θ) with respect to θ is achieved at 1.7135868348079184\n"
     ]
    },
    {
     "data": {
      "text/plain": [
       "1.7135868348079184"
      ]
     },
     "execution_count": 21,
     "metadata": {},
     "output_type": "execute_result"
    }
   ],
   "source": [
    "Newton(f,g,1.5,1e-6)"
   ]
  },
  {
   "cell_type": "code",
   "execution_count": 22,
   "metadata": {},
   "outputs": [
    {
     "name": "stdout",
     "output_type": "stream",
     "text": [
      "Number of iteration = 4\n",
      "The maximum of f(θ) with respect to θ is achieved at 2.817472436888747\n"
     ]
    },
    {
     "data": {
      "text/plain": [
       "2.817472436888747"
      ]
     },
     "execution_count": 22,
     "metadata": {},
     "output_type": "execute_result"
    }
   ],
   "source": [
    "Newton(f,g,4,1e-6)"
   ]
  },
  {
   "cell_type": "code",
   "execution_count": 23,
   "metadata": {},
   "outputs": [
    {
     "name": "stdout",
     "output_type": "stream",
     "text": [
      "Number of iteration = 4\n",
      "The maximum of f(θ) with respect to θ is achieved at -0.192286511918108\n",
      " Elapsed time in seconds: 0.012995719909667969\n"
     ]
    }
   ],
   "source": [
    "start_time = time.time()\n",
    "Newton(f,g,4.7,1e-6)\n",
    "Newton_time = time.time() - start_time\n",
    "print(\" Elapsed time in seconds: {}\" .format(Newton_time))"
   ]
  },
  {
   "cell_type": "code",
   "execution_count": 24,
   "metadata": {},
   "outputs": [
    {
     "name": "stdout",
     "output_type": "stream",
     "text": [
      "Number of iteration = 8\n",
      "The maximum of f(θ) with respect to θ is achieved at 41.04084782103564\n"
     ]
    },
    {
     "data": {
      "text/plain": [
       "41.04084782103564"
      ]
     },
     "execution_count": 24,
     "metadata": {},
     "output_type": "execute_result"
    }
   ],
   "source": [
    "Newton(f,g,7,1e-6)"
   ]
  },
  {
   "cell_type": "code",
   "execution_count": 25,
   "metadata": {},
   "outputs": [
    {
     "name": "stdout",
     "output_type": "stream",
     "text": [
      "Number of iteration = 1640\n",
      "The maximum of f(θ) with respect to θ is achieved at -20011263.285425227\n"
     ]
    },
    {
     "data": {
      "text/plain": [
       "-20011263.285425227"
      ]
     },
     "execution_count": 25,
     "metadata": {},
     "output_type": "execute_result"
    }
   ],
   "source": [
    "Newton(f,g,8,1e-6)"
   ]
  },
  {
   "cell_type": "code",
   "execution_count": 26,
   "metadata": {},
   "outputs": [
    {
     "name": "stdout",
     "output_type": "stream",
     "text": [
      "Number of iteration = 4\n",
      "The maximum of f(θ) with respect to θ is achieved at 42.79537785366718\n"
     ]
    },
    {
     "data": {
      "text/plain": [
       "42.79537785366718"
      ]
     },
     "execution_count": 26,
     "metadata": {},
     "output_type": "execute_result"
    }
   ],
   "source": [
    "Newton(f,g,38,1e-6)"
   ]
  },
  {
   "cell_type": "markdown",
   "metadata": {},
   "source": [
    "#### Newton's result for the mean of the data"
   ]
  },
  {
   "cell_type": "code",
   "execution_count": 27,
   "metadata": {},
   "outputs": [
    {
     "name": "stdout",
     "output_type": "stream",
     "text": [
      "Number of iteration = 8\n",
      "The maximum of f(θ) with respect to θ is achieved at 54.876617911716785\n"
     ]
    },
    {
     "data": {
      "text/plain": [
       "54.876617911716785"
      ]
     },
     "execution_count": 27,
     "metadata": {},
     "output_type": "execute_result"
    }
   ],
   "source": [
    "Newton(f,g,np.mean(x0),1e-6)"
   ]
  },
  {
   "cell_type": "markdown",
   "metadata": {},
   "source": [
    "It seems that mean of the data is not a good starting point for Newton's method. The Maximum is around zero (-0.192286511918108) but we have some local maximum wihch are far from zero. The results are sensetive to the starting point and as we select starting point far from the global maximum we get the wrong estimate."
   ]
  },
  {
   "cell_type": "markdown",
   "metadata": {},
   "source": [
    "#### Lets Plot the $l'(\\theta)$"
   ]
  },
  {
   "cell_type": "code",
   "execution_count": 28,
   "metadata": {},
   "outputs": [
    {
     "data": {
      "text/plain": [
       "<matplotlib.lines.Line2D at 0x1ebb7c97710>"
      ]
     },
     "execution_count": 28,
     "metadata": {},
     "output_type": "execute_result"
    },
    {
     "data": {
      "image/png": "[encoded data removed]",
      "text/plain": [
       "<Figure size 1008x576 with 1 Axes>"
      ]
     },
     "metadata": {
      "needs_background": "light"
     },
     "output_type": "display_data"
    }
   ],
   "source": [
    "x = theta0\n",
    "y = g(theta0)\n",
    "plt.figure(figsize=(14,8))\n",
    "plt.plot(x,y,linewidth=3)\n",
    "plt.xlabel('${\\Theta}$',weight='bold',fontsize=16)\n",
    "plt.ylabel(\"$l'(\\u03B8)$\",weight='bold',fontsize=16)\n",
    "plt.axhline(y=0,linewidth=2,color='k', linestyle='--')\n",
    "plt.axvline(x=-0.192286511918108,linewidth=2,color='r', linestyle='--')"
   ]
  },
  {
   "cell_type": "markdown",
   "metadata": {},
   "source": [
    "Lets plot the $l''(\\theta)$ to see if the double prime is negative for the root or not"
   ]
  },
  {
   "cell_type": "code",
   "execution_count": 29,
   "metadata": {},
   "outputs": [
    {
     "data": {
      "text/plain": [
       "<matplotlib.lines.Line2D at 0x1ebbbe5e828>"
      ]
     },
     "execution_count": 29,
     "metadata": {},
     "output_type": "execute_result"
    },
    {
     "data": {
      "image/png": "[encoded data removed]",
      "text/plain": [
       "<Figure size 1008x576 with 1 Axes>"
      ]
     },
     "metadata": {
      "needs_background": "light"
     },
     "output_type": "display_data"
    }
   ],
   "source": [
    "x = theta0\n",
    "y = k(theta0)\n",
    "plt.figure(figsize=(14,8))\n",
    "plt.plot(x,y,linewidth=3)\n",
    "plt.xlabel('${\\Theta}$',weight='bold',fontsize=16)\n",
    "plt.ylabel(\"$l''(\\u03B8)$\",weight='bold',fontsize=16)\n",
    "plt.axhline(y=0,linewidth=2,color='k', linestyle='--')\n",
    "plt.axvline(x=-0.192286511918108,linewidth=2,color='r', linestyle='--')"
   ]
  },
  {
   "cell_type": "markdown",
   "metadata": {},
   "source": [
    "### b."
   ]
  },
  {
   "cell_type": "markdown",
   "metadata": {},
   "source": [
    "### Bisection Method"
   ]
  },
  {
   "cell_type": "code",
   "execution_count": 30,
   "metadata": {},
   "outputs": [],
   "source": [
    "def bisection(f,a,b,eps):\n",
    "    i=1\n",
    "    while abs(a-b)>eps:\n",
    "        c = a+(b-a)/2\n",
    "        if f(c)*f(a)<0:\n",
    "            b = c\n",
    "        else:\n",
    "            a = c\n",
    "        i+=1\n",
    "    print('Number of iteration = {}'.format(i))\n",
    "    print('The maximum of f(\\u03B8) with respect to \\u03B8 is achieved at {}'.format(c))"
   ]
  },
  {
   "cell_type": "markdown",
   "metadata": {},
   "source": [
    "- Bisection with starting point [-1,1]"
   ]
  },
  {
   "cell_type": "code",
   "execution_count": 31,
   "metadata": {},
   "outputs": [
    {
     "name": "stdout",
     "output_type": "stream",
     "text": [
      "Number of iteration = 22\n",
      "The maximum of f(θ) with respect to θ is achieved at -0.19228649139404297\n",
      " Elapsed time in seconds: 0.004990816116333008\n"
     ]
    }
   ],
   "source": [
    "start_time = time.time()\n",
    "bisection(g,-1,1,1e-6)\n",
    "bisection_time = time.time() - start_time\n",
    "print(\" Elapsed time in seconds: {}\" .format(bisection_time))"
   ]
  },
  {
   "cell_type": "markdown",
   "metadata": {},
   "source": [
    "- Starting point [-1,4.5] in which Bisection Method fails"
   ]
  },
  {
   "cell_type": "code",
   "execution_count": 32,
   "metadata": {},
   "outputs": [
    {
     "name": "stdout",
     "output_type": "stream",
     "text": [
      "Number of iteration = 24\n",
      "The maximum of f(θ) with respect to θ is achieved at 2.817472755908966\n"
     ]
    }
   ],
   "source": [
    "bisection(g,-1,4.5,1e-6)"
   ]
  },
  {
   "cell_type": "markdown",
   "metadata": {},
   "source": [
    "### c."
   ]
  },
  {
   "cell_type": "markdown",
   "metadata": {},
   "source": [
    "### Fixed Point"
   ]
  },
  {
   "cell_type": "code",
   "execution_count": 33,
   "metadata": {},
   "outputs": [],
   "source": [
    "def fixed_point(func,x0,alpha,eps,max_iter):\n",
    "    i=0\n",
    "    while abs(func(x0)) > eps:\n",
    "        x0 = x0 + alpha*func(x0)\n",
    "        i+=1\n",
    "        if i>max_iter:\n",
    "            print('Iteration exceeds {}, select new \\u03B1'.format(max_iter))\n",
    "            break\n",
    "    print('Number of iteration = {}'.format(i))\n",
    "    print('The maximum of f(\\u03B8) with respect to \\u03B8 is achieved at {}'.format(x0))\n",
    "    return x0\n",
    "        "
   ]
  },
  {
   "cell_type": "markdown",
   "metadata": {},
   "source": [
    "- For $\\alpha = 1$ and starting point at -1"
   ]
  },
  {
   "cell_type": "code",
   "execution_count": 34,
   "metadata": {},
   "outputs": [
    {
     "name": "stdout",
     "output_type": "stream",
     "text": [
      "Iteration exceeds 10000, select new α\n",
      "Number of iteration = 10001\n",
      "The maximum of f(θ) with respect to θ is achieved at -1.015663199178444\n"
     ]
    },
    {
     "data": {
      "text/plain": [
       "-1.015663199178444"
      ]
     },
     "execution_count": 34,
     "metadata": {},
     "output_type": "execute_result"
    }
   ],
   "source": [
    "fixed_point(g,-1,1,1e-6,10000)"
   ]
  },
  {
   "cell_type": "markdown",
   "metadata": {},
   "source": [
    "- For $\\alpha = 0.64$ and starting point at -1"
   ]
  },
  {
   "cell_type": "code",
   "execution_count": 35,
   "metadata": {},
   "outputs": [
    {
     "name": "stdout",
     "output_type": "stream",
     "text": [
      "Number of iteration = 455\n",
      "The maximum of f(θ) with respect to θ is achieved at -0.19228628934009448\n",
      " Elapsed time in seconds: 0.08796167373657227\n"
     ]
    }
   ],
   "source": [
    "start_time = time.time()\n",
    "fixed_point(g,-1,0.64,1e-6,10000)\n",
    "fixed_point_time = time.time() - start_time\n",
    "print(\" Elapsed time in seconds: {}\" .format(fixed_point_time))"
   ]
  },
  {
   "cell_type": "markdown",
   "metadata": {},
   "source": [
    "- For $\\alpha = 0.25$ and starting point at -1"
   ]
  },
  {
   "cell_type": "code",
   "execution_count": 36,
   "metadata": {},
   "outputs": [
    {
     "name": "stdout",
     "output_type": "stream",
     "text": [
      "Number of iteration = 11\n",
      "The maximum of f(θ) with respect to θ is achieved at -0.1922868327511721\n"
     ]
    },
    {
     "data": {
      "text/plain": [
       "-0.1922868327511721"
      ]
     },
     "execution_count": 36,
     "metadata": {},
     "output_type": "execute_result"
    }
   ],
   "source": [
    "fixed_point(g,-1,0.25,1e-6,10000)"
   ]
  },
  {
   "cell_type": "markdown",
   "metadata": {},
   "source": [
    "- For $\\alpha = 0.5$ and starting point at -2"
   ]
  },
  {
   "cell_type": "code",
   "execution_count": 37,
   "metadata": {},
   "outputs": [
    {
     "name": "stdout",
     "output_type": "stream",
     "text": [
      "Number of iteration = 23\n",
      "The maximum of f(θ) with respect to θ is achieved at -0.19228685664037476\n"
     ]
    },
    {
     "data": {
      "text/plain": [
       "-0.19228685664037476"
      ]
     },
     "execution_count": 37,
     "metadata": {},
     "output_type": "execute_result"
    }
   ],
   "source": [
    "fixed_point(g,-2,0.5,1e-6,10000)"
   ]
  },
  {
   "cell_type": "markdown",
   "metadata": {},
   "source": [
    "- For $\\alpha = 0.4$ and starting point at -2"
   ]
  },
  {
   "cell_type": "code",
   "execution_count": 38,
   "metadata": {},
   "outputs": [
    {
     "name": "stdout",
     "output_type": "stream",
     "text": [
      "Number of iteration = 11\n",
      "The maximum of f(θ) with respect to θ is achieved at -0.19228648839490692\n"
     ]
    },
    {
     "data": {
      "text/plain": [
       "-0.19228648839490692"
      ]
     },
     "execution_count": 38,
     "metadata": {},
     "output_type": "execute_result"
    }
   ],
   "source": [
    "fixed_point(g,-2,0.4,1e-6,10000)"
   ]
  },
  {
   "cell_type": "markdown",
   "metadata": {},
   "source": [
    "- For $\\alpha = 0.3$ and starting point at -2"
   ]
  },
  {
   "cell_type": "code",
   "execution_count": 39,
   "metadata": {},
   "outputs": [
    {
     "name": "stdout",
     "output_type": "stream",
     "text": [
      "Number of iteration = 7\n",
      "The maximum of f(θ) with respect to θ is achieved at -0.192286689991843\n"
     ]
    },
    {
     "data": {
      "text/plain": [
       "-0.192286689991843"
      ]
     },
     "execution_count": 39,
     "metadata": {},
     "output_type": "execute_result"
    }
   ],
   "source": [
    "fixed_point(g,-2,0.3,1e-6,10000)"
   ]
  },
  {
   "cell_type": "markdown",
   "metadata": {},
   "source": [
    "- For $\\alpha = 0.2$ and starting point at -2"
   ]
  },
  {
   "cell_type": "code",
   "execution_count": 40,
   "metadata": {},
   "outputs": [
    {
     "name": "stdout",
     "output_type": "stream",
     "text": [
      "Number of iteration = 18\n",
      "The maximum of f(θ) with respect to θ is achieved at -0.19228673781762923\n"
     ]
    },
    {
     "data": {
      "text/plain": [
       "-0.19228673781762923"
      ]
     },
     "execution_count": 40,
     "metadata": {},
     "output_type": "execute_result"
    }
   ],
   "source": [
    "fixed_point(g,-2,0.2,1e-6,10000)"
   ]
  },
  {
   "cell_type": "markdown",
   "metadata": {},
   "source": [
    "#### d."
   ]
  },
  {
   "cell_type": "markdown",
   "metadata": {},
   "source": [
    "### Secant Method"
   ]
  },
  {
   "cell_type": "code",
   "execution_count": 41,
   "metadata": {},
   "outputs": [],
   "source": [
    "def secant(func,x0,x1,eps):\n",
    "    i=1\n",
    "    while abs(func(x1))>eps:\n",
    "        x2 = x1 - func(x1)*(x1-x0)/(func(x1)-func(x0))\n",
    "        x0 = x1\n",
    "        x1 = x2\n",
    "        i+=1\n",
    "    print('Number of iteration = {}'.format(i))\n",
    "    print('The maximum of f(\\u03B8) with respect to \\u03B8 is achieved at {}'.format(x2))\n",
    "    return x2\n",
    "    "
   ]
  },
  {
   "cell_type": "markdown",
   "metadata": {},
   "source": [
    "- For starting point [-2,-1]"
   ]
  },
  {
   "cell_type": "code",
   "execution_count": 42,
   "metadata": {},
   "outputs": [
    {
     "name": "stdout",
     "output_type": "stream",
     "text": [
      "Number of iteration = 6\n",
      "The maximum of f(θ) with respect to θ is achieved at -0.1922864937141208\n",
      " Elapsed time in seconds: 0.0020084381103515625\n"
     ]
    }
   ],
   "source": [
    "start_time = time.time()\n",
    "secant(g,-2,-1,1e-6)\n",
    "secant_time = time.time() - start_time\n",
    "print(\" Elapsed time in seconds: {}\" .format(secant_time))"
   ]
  },
  {
   "cell_type": "markdown",
   "metadata": {},
   "source": [
    "- For starting point [-3,3]"
   ]
  },
  {
   "cell_type": "code",
   "execution_count": 43,
   "metadata": {},
   "outputs": [
    {
     "name": "stdout",
     "output_type": "stream",
     "text": [
      "Number of iteration = 7\n",
      "The maximum of f(θ) with respect to θ is achieved at 2.817472169714576\n"
     ]
    },
    {
     "data": {
      "text/plain": [
       "2.817472169714576"
      ]
     },
     "execution_count": 43,
     "metadata": {},
     "output_type": "execute_result"
    }
   ],
   "source": [
    "secant(g,-3,3,1e-6)"
   ]
  },
  {
   "cell_type": "markdown",
   "metadata": {},
   "source": [
    "Secant method is also sensetive to initial values and it gives wrong answer for [-3,3]"
   ]
  },
  {
   "cell_type": "markdown",
   "metadata": {},
   "source": [
    "#### e."
   ]
  },
  {
   "cell_type": "markdown",
   "metadata": {},
   "source": [
    "#### Speed and Stability"
   ]
  },
  {
   "cell_type": "markdown",
   "metadata": {},
   "source": [
    "According to the time computed in part \"d\" the fastest methods for finding the maximum in this example are Secant, Bisection, Newton and Fixed Point accordingly. However, this can change by the initial value selection and the number of local maximum that a specific function has. "
   ]
  },
  {
   "cell_type": "code",
   "execution_count": 44,
   "metadata": {},
   "outputs": [
    {
     "name": "stdout",
     "output_type": "stream",
     "text": [
      " Elapsed time at Secant Method in seconds: 0.0020084381103515625\n",
      " Elapsed time at Bisection Method in seconds: 0.004990816116333008\n",
      " Elapsed time at Newton's Method in seconds: 0.012995719909667969\n",
      " Elapsed time at Fixed Point Method in seconds: 0.08796167373657227\n"
     ]
    }
   ],
   "source": [
    "print(\" Elapsed time at Secant Method in seconds: {}\" .format(secant_time))\n",
    "print(\" Elapsed time at Bisection Method in seconds: {}\" .format(bisection_time))\n",
    "print(\" Elapsed time at Newton's Method in seconds: {}\" .format(Newton_time))\n",
    "print(\" Elapsed time at Fixed Point Method in seconds: {}\" .format(fixed_point_time))"
   ]
  },
  {
   "cell_type": "markdown",
   "metadata": {},
   "source": [
    "#### For Normal Distribution $N(\\theta,1)$"
   ]
  },
  {
   "cell_type": "markdown",
   "metadata": {},
   "source": [
    "$$f(x) = \\frac{1}{\\sqrt{2\\pi}}exp{\\frac{{-(x-\\theta)}^2}{2}}$$"
   ]
  },
  {
   "cell_type": "code",
   "execution_count": 45,
   "metadata": {},
   "outputs": [],
   "source": [
    "x0= np.random.normal(3, 1, 20)"
   ]
  },
  {
   "cell_type": "markdown",
   "metadata": {},
   "source": [
    "#### Likelihood Function Graph"
   ]
  },
  {
   "cell_type": "code",
   "execution_count": 46,
   "metadata": {},
   "outputs": [
    {
     "data": {
      "text/latex": [
       "$\\displaystyle 0.398942280401433 e^{- \\frac{\\left(- t + x\\right)^{2}}{2}}$"
      ],
      "text/plain": [
       "0.398942280401433*exp(-(-t + x)**2/2)"
      ]
     },
     "execution_count": 46,
     "metadata": {},
     "output_type": "execute_result"
    }
   ],
   "source": [
    "theta0 = np.linspace(-100,100, num=1000)\n",
    "x = sym.Symbol('x')\n",
    "theta = sym.Symbol('t')\n",
    "f = exp(-(x-theta)**2/2)/sqrt(2*np.pi)\n",
    "f_x = lambdify([x,theta], f, 'numpy')\n",
    "f"
   ]
  },
  {
   "cell_type": "markdown",
   "metadata": {},
   "source": [
    "#### Lets Plot the loglikwlihood function"
   ]
  },
  {
   "cell_type": "code",
   "execution_count": 47,
   "metadata": {},
   "outputs": [
    {
     "data": {
      "text/plain": [
       "Text(0, 0.5, '$loglikelihood$')"
      ]
     },
     "execution_count": 47,
     "metadata": {},
     "output_type": "execute_result"
    },
    {
     "data": {
      "image/png": "[encoded data removed]",
      "text/plain": [
       "<Figure size 1008x576 with 1 Axes>"
      ]
     },
     "metadata": {
      "needs_background": "light"
     },
     "output_type": "display_data"
    }
   ],
   "source": [
    "x = theta0\n",
    "y = loglikelihood(f_x,x0,theta0)\n",
    "plt.figure(figsize=(14,8))\n",
    "plt.plot(x,y,linewidth=3)\n",
    "plt.xlabel('${\\Theta}$',weight='bold',fontsize=16)\n",
    "plt.ylabel('$loglikelihood$',weight='bold',fontsize=16)"
   ]
  },
  {
   "cell_type": "markdown",
   "metadata": {},
   "source": [
    "#### Define the Loglikelihood function"
   ]
  },
  {
   "cell_type": "code",
   "execution_count": 48,
   "metadata": {},
   "outputs": [],
   "source": [
    "def lglklihd_N(x0):\n",
    "    l = 1\n",
    "    t = sym.Symbol('t')\n",
    "    for i in range(0,len(x0)):\n",
    "        l *= exp(-(x0[i]-t)**2/2)/sqrt(2*np.pi)\n",
    "    return log(l)"
   ]
  },
  {
   "cell_type": "markdown",
   "metadata": {},
   "source": [
    "#### Compute f and f'"
   ]
  },
  {
   "cell_type": "code",
   "execution_count": 49,
   "metadata": {},
   "outputs": [],
   "source": [
    "f_t = lglklihd_N(x0)\n",
    "t = sym.Symbol('t')\n",
    "fprime = sym.diff(f_t)\n",
    "fzegond = sym.diff(fprime)\n",
    "h = -fprime/fzegond\n",
    "f = lambdify(t, h, 'numpy')\n",
    "g = lambdify(t,fprime, 'numpy')"
   ]
  },
  {
   "cell_type": "markdown",
   "metadata": {},
   "source": [
    "### Newton's Method"
   ]
  },
  {
   "cell_type": "code",
   "execution_count": 50,
   "metadata": {},
   "outputs": [
    {
     "name": "stdout",
     "output_type": "stream",
     "text": [
      "Number of iteration = 1\n",
      "The maximum of f(θ) with respect to θ is achieved at 2.84840524874396\n",
      " Elapsed time in seconds: 0.02198648452758789\n"
     ]
    }
   ],
   "source": [
    "start_time = time.time()\n",
    "Newton(f,g,1,1e-3)\n",
    "Newton_time = time.time() - start_time\n",
    "print(\" Elapsed time in seconds: {}\" .format(Newton_time))"
   ]
  },
  {
   "cell_type": "markdown",
   "metadata": {},
   "source": [
    "### Bisection Method"
   ]
  },
  {
   "cell_type": "code",
   "execution_count": 51,
   "metadata": {},
   "outputs": [
    {
     "name": "stdout",
     "output_type": "stream",
     "text": [
      "Number of iteration = 25\n",
      "The maximum of f(θ) with respect to θ is achieved at 2.8484052419662476\n",
      " Elapsed time in seconds: 0.023003101348876953\n"
     ]
    }
   ],
   "source": [
    "start_time = time.time()\n",
    "bisection(g,-5,5,1e-6)\n",
    "bisection_time = time.time() - start_time\n",
    "print(\" Elapsed time in seconds: {}\" .format(bisection_time))"
   ]
  },
  {
   "cell_type": "markdown",
   "metadata": {},
   "source": [
    "### Fixed Point Method"
   ]
  },
  {
   "cell_type": "code",
   "execution_count": 52,
   "metadata": {},
   "outputs": [
    {
     "name": "stdout",
     "output_type": "stream",
     "text": [
      "Number of iteration = 3\n",
      "The maximum of f(θ) with respect to θ is achieved at -16.100938658248417\n",
      " Elapsed time in seconds: 0.0059964656829833984\n"
     ]
    }
   ],
   "source": [
    "start_time = time.time()\n",
    "fixed_point(g,3,0.3,1e-6,10000)\n",
    "fixed_point_time = time.time() - start_time\n",
    "print(\" Elapsed time in seconds: {}\" .format(fixed_point_time))"
   ]
  },
  {
   "cell_type": "markdown",
   "metadata": {},
   "source": [
    "### Secant Method"
   ]
  },
  {
   "cell_type": "code",
   "execution_count": 53,
   "metadata": {},
   "outputs": [
    {
     "name": "stdout",
     "output_type": "stream",
     "text": [
      "Number of iteration = 2\n",
      "The maximum of f(θ) with respect to θ is achieved at 2.8484052487440614\n",
      " Elapsed time in seconds: 0.003000497817993164\n"
     ]
    }
   ],
   "source": [
    "start_time = time.time()\n",
    "secant(g,-5,3,1e-6)\n",
    "secant_time = time.time() - start_time\n",
    "print(\" Elapsed time in seconds: {}\" .format(secant_time))"
   ]
  },
  {
   "cell_type": "markdown",
   "metadata": {},
   "source": [
    "- Except Fixed Point mehtod, other methods can easily compute the global maximum for the normal distribution.t\n",
    "Fixed Point method seems to be the fastest method but it failed to find the maximum. However, secant method reaches to the general maximum faster than other methods. This can change by the initial value selection and the number of local maximum that a specific function has. "
   ]
  },
  {
   "cell_type": "markdown",
   "metadata": {},
   "source": [
    "### Q3."
   ]
  },
  {
   "cell_type": "markdown",
   "metadata": {},
   "source": [
    "### Gamma(2,1):\n",
    "$$f(x) = {x}e^{-x}$$"
   ]
  },
  {
   "cell_type": "code",
   "execution_count": 54,
   "metadata": {},
   "outputs": [
    {
     "name": "stdout",
     "output_type": "stream",
     "text": [
      "Optimization terminated successfully.\n",
      "         Current function value: 4.722806\n",
      "         Iterations: 15\n",
      "         Function evaluations: 30\n"
     ]
    },
    {
     "name": "stderr",
     "output_type": "stream",
     "text": [
      "C:\\ProgramData\\Anaconda\\lib\\site-packages\\scipy\\optimize\\optimize.py:578: RuntimeWarning: invalid value encountered in less\n",
      "  if fxr < fsim[0]:\n",
      "C:\\ProgramData\\Anaconda\\lib\\site-packages\\scipy\\optimize\\optimize.py:589: RuntimeWarning: invalid value encountered in less\n",
      "  if fxr < fsim[-2]:\n",
      "C:\\ProgramData\\Anaconda\\lib\\site-packages\\scipy\\optimize\\optimize.py:594: RuntimeWarning: invalid value encountered in less\n",
      "  if fxr < fsim[-1]:\n",
      "C:\\ProgramData\\Anaconda\\lib\\site-packages\\scipy\\optimize\\optimize.py:582: RuntimeWarning: invalid value encountered in less\n",
      "  if fxe < fxr:\n"
     ]
    },
    {
     "data": {
      "text/plain": [
       "array([0.04204185, 4.76484798])"
      ]
     },
     "execution_count": 54,
     "metadata": {},
     "output_type": "execute_result"
    }
   ],
   "source": [
    "def f_w(lt):\n",
    "    return dist.ppf(0.95 + lt) - dist.ppf(lt)\n",
    "dist = gamma(2)\n",
    "# fmin minimizes a function using the downhill simplex algorithm.\n",
    "Low_tail = fmin(f_w,0.05)[0]\n",
    "dist.ppf([Low_tail,0.95+Low_tail])"
   ]
  },
  {
   "cell_type": "markdown",
   "metadata": {},
   "source": [
    "#### Lets Plot the Gamma(2,1) probability density function with 95% lower and upper quantile"
   ]
  },
  {
   "cell_type": "code",
   "execution_count": 55,
   "metadata": {},
   "outputs": [
    {
     "data": {
      "text/plain": [
       "Text(9, 0.4, '$Gamma(2,1)$')"
      ]
     },
     "execution_count": 55,
     "metadata": {},
     "output_type": "execute_result"
    },
    {
     "data": {
      "image/png": "[encoded data removed]",
      "text/plain": [
       "<Figure size 1008x576 with 1 Axes>"
      ]
     },
     "metadata": {
      "needs_background": "light"
     },
     "output_type": "display_data"
    }
   ],
   "source": [
    "x0 = np.linspace(0,20, 100)\n",
    "x = sym.Symbol('x')\n",
    "gamm = x*exp(-x)\n",
    "y = lambdify(x, gamm, 'numpy')\n",
    "plt.figure(figsize=(14,8))\n",
    "plt.plot(x0, y(x0),'b-', lw=3)\n",
    "plt.xlabel('${x}$',weight='bold',fontsize=16)\n",
    "plt.ylabel('$f(x)$',weight='bold',fontsize=16)\n",
    "plt.axvline(x=0.04204185,linewidth=2,color='r', linestyle='--')\n",
    "plt.axvline(x=4.76484798,linewidth=2,color='r', linestyle='--')\n",
    "plt.text(-0.7, 0.2, 'Lower', fontsize=16,rotation=90)\n",
    "plt.text(5, 0.2, 'Upper', fontsize=16,rotation=90)\n",
    "plt.text(9, 0.4, r'$Gamma(2,1)$', weight='bold',fontsize=22)"
   ]
  },
  {
   "cell_type": "markdown",
   "metadata": {},
   "source": [
    "#### The region under the density curve and above the 95% highest posterior density interval."
   ]
  },
  {
   "cell_type": "code",
   "execution_count": 56,
   "metadata": {},
   "outputs": [
    {
     "data": {
      "text/plain": [
       "Text(9, 0.4, '$Gamma(2,1)$')"
      ]
     },
     "execution_count": 56,
     "metadata": {},
     "output_type": "execute_result"
    },
    {
     "data": {
      "image/png": "[encoded data removed]",
      "text/plain": [
       "<Figure size 1008x576 with 1 Axes>"
      ]
     },
     "metadata": {
      "needs_background": "light"
     },
     "output_type": "display_data"
    }
   ],
   "source": [
    "plt.figure(figsize=(14,8))\n",
    "plt.plot(x0, y(x0),'b-', lw=8)\n",
    "plt.xlabel('${x}$',weight='bold',fontsize=16)\n",
    "plt.ylabel('$f(x)$',weight='bold',fontsize=16)\n",
    "plt.axvline(x=0.04204185,linewidth=2,color='r', linestyle='--')\n",
    "plt.axvline(x=4.76484798,linewidth=2,color='r', linestyle='--')\n",
    "plt.text(-0.7, 0.2, 'Lower', fontsize=16,rotation=90)\n",
    "plt.text(5, 0.2, 'Upper', fontsize=16,rotation=90)\n",
    "plt.axhline(y=0.04204185,linewidth=2,color='k', linestyle='--')\n",
    "plt.fill_between(x0, 0.04204185, y(x0),where=y(x0) >= 0.04204185)\n",
    "plt.text(9, 0.4, r'$Gamma(2,1)$', weight='bold',fontsize=22)"
   ]
  },
  {
   "cell_type": "code",
   "execution_count": null,
   "metadata": {},
   "outputs": [],
   "source": []
  }
 ],
 "metadata": {
  "kernelspec": {
   "display_name": "Python 3",
   "language": "python",
   "name": "python3"
  },
  "language_info": {
   "codemirror_mode": {
    "name": "ipython",
    "version": 3
   },
   "file_extension": ".py",
   "mimetype": "text/x-python",
   "name": "python",
   "nbconvert_exporter": "python",
   "pygments_lexer": "ipython3",
   "version": "3.7.3"
  }
 },
 "nbformat": 4,
 "nbformat_minor": 2
}
